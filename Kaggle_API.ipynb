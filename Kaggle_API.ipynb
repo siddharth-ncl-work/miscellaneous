{
  "nbformat": 4,
  "nbformat_minor": 0,
  "metadata": {
    "colab": {
      "name": "Kaggle API",
      "version": "0.3.2",
      "provenance": [],
      "collapsed_sections": [],
      "include_colab_link": true
    },
    "kernelspec": {
      "name": "python3",
      "display_name": "Python 3"
    }
  },
  "cells": [
    {
      "cell_type": "markdown",
      "metadata": {
        "id": "view-in-github",
        "colab_type": "text"
      },
      "source": [
        "<a href=\"https://colab.research.google.com/github/ss-ghule/misc_or_test_repo/blob/master/Kaggle_API.ipynb\" target=\"_parent\"><img src=\"https://colab.research.google.com/assets/colab-badge.svg\" alt=\"Open In Colab\"/></a>"
      ]
    },
    {
      "cell_type": "code",
      "metadata": {
        "id": "9GId506qpIkT",
        "colab_type": "code",
        "outputId": "a25d0406-68d8-49c3-da0d-f6f9666aa86f",
        "colab": {
          "base_uri": "https://localhost:8080/",
          "height": 230
        }
      },
      "source": [
        "!pip install kaggle"
      ],
      "execution_count": 1,
      "outputs": [
        {
          "output_type": "stream",
          "text": [
            "Requirement already satisfied: kaggle in /usr/local/lib/python3.6/dist-packages (1.5.4)\n",
            "Requirement already satisfied: six>=1.10 in /usr/local/lib/python3.6/dist-packages (from kaggle) (1.12.0)\n",
            "Requirement already satisfied: python-slugify in /usr/local/lib/python3.6/dist-packages (from kaggle) (3.0.2)\n",
            "Requirement already satisfied: certifi in /usr/local/lib/python3.6/dist-packages (from kaggle) (2019.3.9)\n",
            "Requirement already satisfied: tqdm in /usr/local/lib/python3.6/dist-packages (from kaggle) (4.28.1)\n",
            "Requirement already satisfied: requests in /usr/local/lib/python3.6/dist-packages (from kaggle) (2.21.0)\n",
            "Requirement already satisfied: python-dateutil in /usr/local/lib/python3.6/dist-packages (from kaggle) (2.5.3)\n",
            "Requirement already satisfied: urllib3<1.25,>=1.21.1 in /usr/local/lib/python3.6/dist-packages (from kaggle) (1.24.3)\n",
            "Requirement already satisfied: text-unidecode==1.2 in /usr/local/lib/python3.6/dist-packages (from python-slugify->kaggle) (1.2)\n",
            "Requirement already satisfied: chardet<3.1.0,>=3.0.2 in /usr/local/lib/python3.6/dist-packages (from requests->kaggle) (3.0.4)\n",
            "Requirement already satisfied: idna<2.9,>=2.5 in /usr/local/lib/python3.6/dist-packages (from requests->kaggle) (2.8)\n"
          ],
          "name": "stdout"
        }
      ]
    },
    {
      "cell_type": "code",
      "metadata": {
        "id": "o_EDbSbXpfng",
        "colab_type": "code",
        "outputId": "767b4d2b-db00-4a37-e360-101e12a668d5",
        "colab": {
          "base_uri": "https://localhost:8080/",
          "height": 34
        }
      },
      "source": [
        "from googleapiclient.discovery import build\n",
        "import io, os\n",
        "from googleapiclient.http import MediaIoBaseDownload\n",
        "from google.colab import auth\n",
        "auth.authenticate_user()\n",
        "drive_service = build('drive', 'v3')\n",
        "results = drive_service.files().list(\n",
        "        q=\"name = 'kaggle.json'\", fields=\"files(id)\").execute()\n",
        "kaggle_api_key = results.get('files', [])\n",
        "filename = \"/root/.kaggle/kaggle.json\"  # NOTE: This is different from the Medium post!\n",
        "os.makedirs(os.path.dirname(filename), exist_ok=True)\n",
        "request = drive_service.files().get_media(fileId=kaggle_api_key[0]['id'])\n",
        "fh = io.FileIO(filename, 'wb')\n",
        "downloader = MediaIoBaseDownload(fh, request)\n",
        "done = False\n",
        "while done is False:\n",
        "    status, done = downloader.next_chunk()\n",
        "    print(\"Download %d%%.\" % int(status.progress() * 100))\n",
        "os.chmod(filename, 600)"
      ],
      "execution_count": 2,
      "outputs": [
        {
          "output_type": "stream",
          "text": [
            "Download 100%.\n"
          ],
          "name": "stdout"
        }
      ]
    },
    {
      "cell_type": "code",
      "metadata": {
        "id": "MSi7_10ysAyI",
        "colab_type": "code",
        "outputId": "e11a883b-626a-4308-9537-4fabdbdb54f2",
        "colab": {
          "base_uri": "https://localhost:8080/",
          "height": 424
        }
      },
      "source": [
        "!kaggle datasets list "
      ],
      "execution_count": 3,
      "outputs": [
        {
          "output_type": "stream",
          "text": [
            "ref                                                     title                                              size  lastUpdated          downloadCount  \n",
            "------------------------------------------------------  ------------------------------------------------  -----  -------------------  -------------  \n",
            "chicago/chicago-copa-cases                              Chicago COPA Cases                                  3MB  2019-04-05 00:00:32            587  \n",
            "himanshupoddar/zomato-bangalore-restaurants             Zomato Bangalore Restaurants                       88MB  2019-03-31 09:48:43            610  \n",
            "sfinspiredu/synchrotron-data-set                        Synchrotron Data Set                               10KB  2019-05-27 19:54:29            104  \n",
            "crisparada/brazilian-cities                             Brazilian Cities                                  935KB  2019-05-24 20:49:21            458  \n",
            "taniaj/australian-election-2019-tweets                  Australian Election 2019 Tweets                    29MB  2019-05-21 09:41:38            121  \n",
            "romainpessia/artificial-lunar-rocky-landscape-dataset   Artificial Lunar Landscape Dataset                  5GB  2019-06-12 05:59:07            147  \n",
            "gqfiddler/scotus-opinions                               SCOTUS Opinions                                   216MB  2018-11-05 22:20:10            152  \n",
            "se18m502/bee-hive-metrics                               Beehive Metrics                                    30MB  2019-05-31 12:25:25            273  \n",
            "brittabettendorf/berlin-airbnb-data                     Berlin Airbnb Data                                 89MB  2019-03-05 09:23:00            434  \n",
            "PromptCloudHQ/world-happiness-report-2019               World Happiness Report 2019                         4KB  2019-03-20 09:39:07           1383  \n",
            "jlesuffleur/granddebat                                  Le Grand Débat National                           388MB  2019-03-28 21:20:52             55  \n",
            "thegurus/spanish-high-speed-rail-system-ticket-pricing  Spanish High Speed Rail tickets pricing - Renfe    27MB  2019-05-10 06:50:30            130  \n",
            "leomauro/smmnet                                         SMMnet                                            105MB  2019-05-13 17:26:55             82  \n",
            "snocco/missing-migrants-project                         Missing Migrants Project                          253KB  2019-04-07 16:57:48             89  \n",
            "austinreese/craigslist-carstrucks-data                  Craigslist Cars+Trucks Data                       349MB  2019-06-09 17:34:57            517  \n",
            "robseidl/tennis-atp-tour-australian-open-final-2019     Tennis ATP Tour Australian Open Final 2019         27KB  2019-03-02 20:52:43            190  \n",
            "cityofLA/los-angeles-traffic-collision-data             Los Angeles Traffic Collision Data                 23MB  2019-06-07 22:47:49            607  \n",
            "inIT-OWL/versatileproductionsystem                      Versatile Production System                       398KB  2018-09-12 13:32:32            258  \n",
            "alvarob96/spanish-stocks-historical-data                Spanish Stocks Historical Data from 2000 to 2019    1MB  2019-06-07 16:08:00             52  \n",
            "mfekadu/darpa-timit-acousticphonetic-continuous-speech  DARPA TIMIT Acoustic-Phonetic Continuous Speech   826MB  2019-06-05 02:01:06             50  \n"
          ],
          "name": "stdout"
        }
      ]
    },
    {
      "cell_type": "code",
      "metadata": {
        "id": "ZmkWvhzzGWv3",
        "colab_type": "code",
        "colab": {}
      },
      "source": [
        ""
      ],
      "execution_count": 0,
      "outputs": []
    }
  ]
}