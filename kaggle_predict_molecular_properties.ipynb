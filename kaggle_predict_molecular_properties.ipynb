{
  "nbformat": 4,
  "nbformat_minor": 0,
  "metadata": {
    "colab": {
      "name": "kaggle_predict_molecular_properties",
      "version": "0.3.2",
      "provenance": [],
      "collapsed_sections": [],
      "include_colab_link": true
    },
    "kernelspec": {
      "name": "python3",
      "display_name": "Python 3"
    }
  },
  "cells": [
    {
      "cell_type": "markdown",
      "metadata": {
        "id": "view-in-github",
        "colab_type": "text"
      },
      "source": [
        "<a href=\"https://colab.research.google.com/github/ss-ghule/misc_or_test_repo/blob/master/kaggle_predict_molecular_properties.ipynb\" target=\"_parent\"><img src=\"https://colab.research.google.com/assets/colab-badge.svg\" alt=\"Open In Colab\"/></a>"
      ]
    },
    {
      "cell_type": "code",
      "metadata": {
        "id": "0j0v8Gpzrn6-",
        "colab_type": "code",
        "outputId": "7a0d4e71-a7bd-4004-cdcb-74156a182bfd",
        "colab": {
          "base_uri": "https://localhost:8080/",
          "height": 230
        }
      },
      "source": [
        "!pip install kaggle"
      ],
      "execution_count": 0,
      "outputs": [
        {
          "output_type": "stream",
          "text": [
            "Requirement already satisfied: kaggle in /usr/local/lib/python3.6/dist-packages (1.5.4)\n",
            "Requirement already satisfied: urllib3<1.25,>=1.21.1 in /usr/local/lib/python3.6/dist-packages (from kaggle) (1.24.3)\n",
            "Requirement already satisfied: certifi in /usr/local/lib/python3.6/dist-packages (from kaggle) (2019.3.9)\n",
            "Requirement already satisfied: requests in /usr/local/lib/python3.6/dist-packages (from kaggle) (2.21.0)\n",
            "Requirement already satisfied: tqdm in /usr/local/lib/python3.6/dist-packages (from kaggle) (4.28.1)\n",
            "Requirement already satisfied: python-dateutil in /usr/local/lib/python3.6/dist-packages (from kaggle) (2.5.3)\n",
            "Requirement already satisfied: six>=1.10 in /usr/local/lib/python3.6/dist-packages (from kaggle) (1.12.0)\n",
            "Requirement already satisfied: python-slugify in /usr/local/lib/python3.6/dist-packages (from kaggle) (3.0.2)\n",
            "Requirement already satisfied: chardet<3.1.0,>=3.0.2 in /usr/local/lib/python3.6/dist-packages (from requests->kaggle) (3.0.4)\n",
            "Requirement already satisfied: idna<2.9,>=2.5 in /usr/local/lib/python3.6/dist-packages (from requests->kaggle) (2.8)\n",
            "Requirement already satisfied: text-unidecode==1.2 in /usr/local/lib/python3.6/dist-packages (from python-slugify->kaggle) (1.2)\n"
          ],
          "name": "stdout"
        }
      ]
    },
    {
      "cell_type": "code",
      "metadata": {
        "id": "5nCiAbPU_Dip",
        "colab_type": "code",
        "outputId": "6f20cec2-ea71-4ebb-a717-00a7139cc557",
        "colab": {
          "base_uri": "https://localhost:8080/",
          "height": 105
        }
      },
      "source": [
        "%%bash\n",
        "pwd\n",
        "echo ~\n",
        "/\n",
        "./\n",
        "../"
      ],
      "execution_count": 0,
      "outputs": [
        {
          "output_type": "stream",
          "text": [
            "/content\n",
            "/root\n"
          ],
          "name": "stdout"
        },
        {
          "output_type": "stream",
          "text": [
            "bash: line 3: /: Is a directory\n",
            "bash: line 4: ./: Is a directory\n",
            "bash: line 5: ../: Is a directory\n"
          ],
          "name": "stderr"
        }
      ]
    },
    {
      "cell_type": "code",
      "metadata": {
        "id": "Q0Z_u3qbE77r",
        "colab_type": "code",
        "colab": {}
      },
      "source": [
        "!pip install -q kaggle"
      ],
      "execution_count": 0,
      "outputs": []
    },
    {
      "cell_type": "code",
      "metadata": {
        "id": "wFS29fN1_bT8",
        "colab_type": "code",
        "colab": {}
      },
      "source": [
        "!mv kaggle.json /root/.kaggle"
      ],
      "execution_count": 0,
      "outputs": []
    },
    {
      "cell_type": "code",
      "metadata": {
        "id": "9HdkwVlyAJGA",
        "colab_type": "code",
        "colab": {}
      },
      "source": [
        "!chmod 600 ~/.kaggle/kaggle.json"
      ],
      "execution_count": 0,
      "outputs": []
    },
    {
      "cell_type": "code",
      "metadata": {
        "id": "Fq7FJD0rATlE",
        "colab_type": "code",
        "outputId": "cea36501-d76f-4886-a471-f40014161830",
        "colab": {
          "base_uri": "https://localhost:8080/",
          "height": 34
        }
      },
      "source": [
        "!cat ~/.kaggle/kaggle.json"
      ],
      "execution_count": 0,
      "outputs": [
        {
          "output_type": "stream",
          "text": [
            "{\"username\":\"siddharthncl\",\"key\":\"4a30b1190f231be2e714d5bdba1a2120\"}"
          ],
          "name": "stdout"
        }
      ]
    },
    {
      "cell_type": "code",
      "metadata": {
        "id": "lXnQHKkpFAYT",
        "colab_type": "code",
        "outputId": "f2a6e18b-0d84-42a2-9723-4a0430f05d8f",
        "colab": {
          "base_uri": "https://localhost:8080/",
          "height": 34
        }
      },
      "source": [
        "cat /root/.kaggle/kaggle.json"
      ],
      "execution_count": 0,
      "outputs": [
        {
          "output_type": "stream",
          "text": [
            "{\"username\":\"siddharthncl\",\"key\":\"4a30b1190f231be2e714d5bdba1a2120\"}"
          ],
          "name": "stdout"
        }
      ]
    },
    {
      "cell_type": "code",
      "metadata": {
        "id": "e4cu7b-jM1Xl",
        "colab_type": "code",
        "colab": {
          "base_uri": "https://localhost:8080/",
          "height": 545
        },
        "outputId": "5ed1ccf9-48aa-485d-b788-ec904229e1c0"
      },
      "source": [
        "!kaggle competitions download -c champs-scalar-coupling"
      ],
      "execution_count": 5,
      "outputs": [
        {
          "output_type": "stream",
          "text": [
            "Downloading train.csv.zip to /content\n",
            "\r  0% 0.00/44.5M [00:00<?, ?B/s]\r 11% 5.00M/44.5M [00:00<00:01, 30.6MB/s]\r 56% 25.0M/44.5M [00:00<00:00, 41.0MB/s]\r 74% 33.0M/44.5M [00:00<00:00, 44.3MB/s]\n",
            "100% 44.5M/44.5M [00:00<00:00, 90.2MB/s]\n",
            "Downloading test.csv.zip to /content\n",
            " 67% 9.00M/13.4M [00:00<00:00, 37.3MB/s]\n",
            "100% 13.4M/13.4M [00:00<00:00, 43.9MB/s]\n",
            "Downloading structures.zip to /content\n",
            " 81% 51.0M/62.9M [00:00<00:00, 129MB/s]\n",
            "100% 62.9M/62.9M [00:00<00:00, 157MB/s]\n",
            "Downloading structures.csv.zip to /content\n",
            " 96% 47.0M/48.7M [00:00<00:00, 66.9MB/s]\n",
            "100% 48.7M/48.7M [00:00<00:00, 82.5MB/s]\n",
            "Downloading scalar_coupling_contributions.csv.zip to /content\n",
            " 89% 77.0M/86.6M [00:00<00:00, 82.3MB/s]\n",
            "100% 86.6M/86.6M [00:00<00:00, 98.9MB/s]\n",
            "Downloading sample_submission.csv.zip to /content\n",
            "  0% 0.00/5.31M [00:00<?, ?B/s]\n",
            "100% 5.31M/5.31M [00:00<00:00, 87.1MB/s]\n",
            "Downloading potential_energy.csv.zip to /content\n",
            "  0% 0.00/497k [00:00<?, ?B/s]\n",
            "100% 497k/497k [00:00<00:00, 165MB/s]\n",
            "Downloading mulliken_charges.csv.zip to /content\n",
            " 54% 5.00M/9.24M [00:00<00:00, 47.2MB/s]\n",
            "100% 9.24M/9.24M [00:00<00:00, 58.7MB/s]\n",
            "Downloading magnetic_shielding_tensors.csv.zip to /content\n",
            " 94% 47.0M/49.8M [00:00<00:00, 62.7MB/s]\n",
            "100% 49.8M/49.8M [00:00<00:00, 78.2MB/s]\n",
            "Downloading dipole_moments.csv.zip to /content\n",
            "  0% 0.00/965k [00:00<?, ?B/s]\n",
            "100% 965k/965k [00:00<00:00, 133MB/s]\n"
          ],
          "name": "stdout"
        }
      ]
    },
    {
      "cell_type": "markdown",
      "metadata": {
        "id": "xldsRSTuNTEO",
        "colab_type": "text"
      },
      "source": [
        "Modified and saving for testing"
      ]
    },
    {
      "cell_type": "code",
      "metadata": {
        "id": "JB7rIQgUNWHP",
        "colab_type": "code",
        "colab": {
          "base_uri": "https://localhost:8080/",
          "height": 195
        },
        "outputId": "a44346c6-f92e-46ff-d474-0a8df4a724df"
      },
      "source": [
        "import pandas as pd\n",
        "train=pd.read_csv('train.csv.zip')\n",
        "train.head()"
      ],
      "execution_count": 7,
      "outputs": [
        {
          "output_type": "execute_result",
          "data": {
            "text/html": [
              "<div>\n",
              "<style scoped>\n",
              "    .dataframe tbody tr th:only-of-type {\n",
              "        vertical-align: middle;\n",
              "    }\n",
              "\n",
              "    .dataframe tbody tr th {\n",
              "        vertical-align: top;\n",
              "    }\n",
              "\n",
              "    .dataframe thead th {\n",
              "        text-align: right;\n",
              "    }\n",
              "</style>\n",
              "<table border=\"1\" class=\"dataframe\">\n",
              "  <thead>\n",
              "    <tr style=\"text-align: right;\">\n",
              "      <th></th>\n",
              "      <th>id</th>\n",
              "      <th>molecule_name</th>\n",
              "      <th>atom_index_0</th>\n",
              "      <th>atom_index_1</th>\n",
              "      <th>type</th>\n",
              "      <th>scalar_coupling_constant</th>\n",
              "    </tr>\n",
              "  </thead>\n",
              "  <tbody>\n",
              "    <tr>\n",
              "      <th>0</th>\n",
              "      <td>0</td>\n",
              "      <td>dsgdb9nsd_000001</td>\n",
              "      <td>1</td>\n",
              "      <td>0</td>\n",
              "      <td>1JHC</td>\n",
              "      <td>84.8076</td>\n",
              "    </tr>\n",
              "    <tr>\n",
              "      <th>1</th>\n",
              "      <td>1</td>\n",
              "      <td>dsgdb9nsd_000001</td>\n",
              "      <td>1</td>\n",
              "      <td>2</td>\n",
              "      <td>2JHH</td>\n",
              "      <td>-11.2570</td>\n",
              "    </tr>\n",
              "    <tr>\n",
              "      <th>2</th>\n",
              "      <td>2</td>\n",
              "      <td>dsgdb9nsd_000001</td>\n",
              "      <td>1</td>\n",
              "      <td>3</td>\n",
              "      <td>2JHH</td>\n",
              "      <td>-11.2548</td>\n",
              "    </tr>\n",
              "    <tr>\n",
              "      <th>3</th>\n",
              "      <td>3</td>\n",
              "      <td>dsgdb9nsd_000001</td>\n",
              "      <td>1</td>\n",
              "      <td>4</td>\n",
              "      <td>2JHH</td>\n",
              "      <td>-11.2543</td>\n",
              "    </tr>\n",
              "    <tr>\n",
              "      <th>4</th>\n",
              "      <td>4</td>\n",
              "      <td>dsgdb9nsd_000001</td>\n",
              "      <td>2</td>\n",
              "      <td>0</td>\n",
              "      <td>1JHC</td>\n",
              "      <td>84.8074</td>\n",
              "    </tr>\n",
              "  </tbody>\n",
              "</table>\n",
              "</div>"
            ],
            "text/plain": [
              "   id     molecule_name  ...  type  scalar_coupling_constant\n",
              "0   0  dsgdb9nsd_000001  ...  1JHC                   84.8076\n",
              "1   1  dsgdb9nsd_000001  ...  2JHH                  -11.2570\n",
              "2   2  dsgdb9nsd_000001  ...  2JHH                  -11.2548\n",
              "3   3  dsgdb9nsd_000001  ...  2JHH                  -11.2543\n",
              "4   4  dsgdb9nsd_000001  ...  1JHC                   84.8074\n",
              "\n",
              "[5 rows x 6 columns]"
            ]
          },
          "metadata": {
            "tags": []
          },
          "execution_count": 7
        }
      ]
    },
    {
      "cell_type": "code",
      "metadata": {
        "id": "WdAHtgICOuFN",
        "colab_type": "code",
        "colab": {
          "base_uri": "https://localhost:8080/",
          "height": 202
        },
        "outputId": "afda342e-ab6f-4ba1-87b6-f3e864c32680"
      },
      "source": [
        "train.describe().T"
      ],
      "execution_count": 9,
      "outputs": [
        {
          "output_type": "execute_result",
          "data": {
            "text/html": [
              "<div>\n",
              "<style scoped>\n",
              "    .dataframe tbody tr th:only-of-type {\n",
              "        vertical-align: middle;\n",
              "    }\n",
              "\n",
              "    .dataframe tbody tr th {\n",
              "        vertical-align: top;\n",
              "    }\n",
              "\n",
              "    .dataframe thead th {\n",
              "        text-align: right;\n",
              "    }\n",
              "</style>\n",
              "<table border=\"1\" class=\"dataframe\">\n",
              "  <thead>\n",
              "    <tr style=\"text-align: right;\">\n",
              "      <th></th>\n",
              "      <th>count</th>\n",
              "      <th>mean</th>\n",
              "      <th>std</th>\n",
              "      <th>min</th>\n",
              "      <th>25%</th>\n",
              "      <th>50%</th>\n",
              "      <th>75%</th>\n",
              "      <th>max</th>\n",
              "    </tr>\n",
              "  </thead>\n",
              "  <tbody>\n",
              "    <tr>\n",
              "      <th>id</th>\n",
              "      <td>4658147.0</td>\n",
              "      <td>2.329073e+06</td>\n",
              "      <td>1.344691e+06</td>\n",
              "      <td>0.0000</td>\n",
              "      <td>1.164536e+06</td>\n",
              "      <td>2.329073e+06</td>\n",
              "      <td>3.493610e+06</td>\n",
              "      <td>4658146.00</td>\n",
              "    </tr>\n",
              "    <tr>\n",
              "      <th>atom_index_0</th>\n",
              "      <td>4658147.0</td>\n",
              "      <td>1.335689e+01</td>\n",
              "      <td>3.267712e+00</td>\n",
              "      <td>0.0000</td>\n",
              "      <td>1.100000e+01</td>\n",
              "      <td>1.300000e+01</td>\n",
              "      <td>1.600000e+01</td>\n",
              "      <td>28.00</td>\n",
              "    </tr>\n",
              "    <tr>\n",
              "      <th>atom_index_1</th>\n",
              "      <td>4658147.0</td>\n",
              "      <td>5.883966e+00</td>\n",
              "      <td>4.993943e+00</td>\n",
              "      <td>0.0000</td>\n",
              "      <td>2.000000e+00</td>\n",
              "      <td>5.000000e+00</td>\n",
              "      <td>8.000000e+00</td>\n",
              "      <td>28.00</td>\n",
              "    </tr>\n",
              "    <tr>\n",
              "      <th>scalar_coupling_constant</th>\n",
              "      <td>4658147.0</td>\n",
              "      <td>1.592165e+01</td>\n",
              "      <td>3.494198e+01</td>\n",
              "      <td>-36.2186</td>\n",
              "      <td>-2.549780e-01</td>\n",
              "      <td>2.281130e+00</td>\n",
              "      <td>7.390655e+00</td>\n",
              "      <td>204.88</td>\n",
              "    </tr>\n",
              "  </tbody>\n",
              "</table>\n",
              "</div>"
            ],
            "text/plain": [
              "                              count          mean  ...           75%         max\n",
              "id                        4658147.0  2.329073e+06  ...  3.493610e+06  4658146.00\n",
              "atom_index_0              4658147.0  1.335689e+01  ...  1.600000e+01       28.00\n",
              "atom_index_1              4658147.0  5.883966e+00  ...  8.000000e+00       28.00\n",
              "scalar_coupling_constant  4658147.0  1.592165e+01  ...  7.390655e+00      204.88\n",
              "\n",
              "[4 rows x 8 columns]"
            ]
          },
          "metadata": {
            "tags": []
          },
          "execution_count": 9
        }
      ]
    },
    {
      "cell_type": "code",
      "metadata": {
        "id": "10_EsjCtOFOK",
        "colab_type": "code",
        "colab": {
          "base_uri": "https://localhost:8080/",
          "height": 287
        },
        "outputId": "b911f00b-5c34-46e7-9266-c164d5bfa632"
      },
      "source": [
        "import matplotlib.pyplot as plt\n",
        "plt.Figure(figsize=(20,10))\n",
        "plt.plot(train.loc[:10000,'molecule_name'],train.loc[:10000,'scalar_coupling_constant'])"
      ],
      "execution_count": 11,
      "outputs": [
        {
          "output_type": "execute_result",
          "data": {
            "text/plain": [
              "[<matplotlib.lines.Line2D at 0x7fb2f02c94e0>]"
            ]
          },
          "metadata": {
            "tags": []
          },
          "execution_count": 11
        },
        {
          "output_type": "display_data",
          "data": {
            "image/png": "[encoded data removed]",
            "text/plain": [
              "<Figure size 432x288 with 1 Axes>"
            ]
          },
          "metadata": {
            "tags": []
          }
        }
      ]
    }
  ]
}