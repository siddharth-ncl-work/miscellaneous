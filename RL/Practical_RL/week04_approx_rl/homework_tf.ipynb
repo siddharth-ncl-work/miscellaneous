{
 "cells": [
  {
   "cell_type": "markdown",
   "metadata": {},
   "source": [
    "# Deep Q-Network implementation\n",
    "\n",
    "This notebook shamelessly demands you to implement a DQN - an approximate q-learning algorithm with experience replay and target networks - and see if it works any better this way."
   ]
  },
  {
   "cell_type": "code",
   "execution_count": 4,
   "metadata": {},
   "outputs": [],
   "source": [
    "import sys, os\n",
    "if 'google.colab' in sys.modules:\n",
    "    %tensorflow_version 1.x\n",
    "    \n",
    "    if not os.path.exists('.setup_complete'):\n",
    "        !wget -q https://raw.githubusercontent.com/yandexdataschool/Practical_RL/master/setup_colab.sh -O- | bash\n",
    "\n",
    "        !wget -q https://raw.githubusercontent.com/yandexdataschool/Practical_RL/master/week04_approx_rl/framebuffer.py\n",
    "        !wget -q https://raw.githubusercontent.com/yandexdataschool/Practical_RL/master/week04_approx_rl/replay_buffer.py\n",
    "        !wget -q https://raw.githubusercontent.com/yandexdataschool/Practical_RL/master/week04_approx_rl/atari_wrappers.py\n",
    "        !wget -q https://raw.githubusercontent.com/yandexdataschool/Practical_RL/master/week04_approx_rl/utils.py\n",
    "\n",
    "        !touch .setup_complete\n",
    "\n",
    "# This code creates a virtual display to draw game images on.\n",
    "# It will have no effect if your machine has a monitor.\n",
    "if type(os.environ.get(\"DISPLAY\")) is not str or len(os.environ.get(\"DISPLAY\")) == 0:\n",
    "    !bash ../xvfb start\n",
    "    os.environ['DISPLAY'] = ':1'"
   ]
  },
  {
   "cell_type": "markdown",
   "metadata": {},
   "source": [
    "__Frameworks__ - we'll accept this homework in any deep learning framework. This particular notebook was designed for tensorflow, but you will find it easy to adapt it to almost any python-based deep learning framework."
   ]
  },
  {
   "cell_type": "code",
   "execution_count": 5,
   "metadata": {},
   "outputs": [],
   "source": [
    "import random\n",
    "import numpy as np\n",
    "import utils"
   ]
  },
  {
   "cell_type": "code",
   "execution_count": 6,
   "metadata": {},
   "outputs": [],
   "source": [
    "import gym\n",
    "import numpy as np\n",
    "import matplotlib.pyplot as plt\n",
    "%matplotlib inline"
   ]
  },
  {
   "cell_type": "markdown",
   "metadata": {},
   "source": [
    "### Let's play some old videogames\n",
    "![img](https://github.com/yandexdataschool/Practical_RL/raw/master/yet_another_week/_resource/nerd.png)\n",
    "\n",
    "This time we're gonna apply approximate q-learning to an Atari game called Breakout. It's not the hardest thing out there, but it's definitely way more complex than anything we tried before.\n"
   ]
  },
  {
   "cell_type": "code",
   "execution_count": 7,
   "metadata": {},
   "outputs": [],
   "source": [
    "ENV_NAME = \"BreakoutNoFrameskip-v4\""
   ]
  },
  {
   "cell_type": "markdown",
   "metadata": {},
   "source": [
    "## Preprocessing (3 pts)"
   ]
  },
  {
   "cell_type": "markdown",
   "metadata": {},
   "source": [
    "Let's see what observations look like."
   ]
  },
  {
   "cell_type": "code",
   "execution_count": 8,
   "metadata": {},
   "outputs": [
    {
     "data": {
      "image/png": "[encoded data removed]",
      "text/plain": [
       "<Figure size 1152x648 with 10 Axes>"
      ]
     },
     "metadata": {
      "needs_background": "light"
     },
     "output_type": "display_data"
    }
   ],
   "source": [
    "env = gym.make(ENV_NAME)\n",
    "env.reset()\n",
    "\n",
    "n_cols = 5\n",
    "n_rows = 2\n",
    "fig = plt.figure(figsize=(16, 9))\n",
    "\n",
    "for row in range(n_rows):\n",
    "    for col in range(n_cols):\n",
    "        ax = fig.add_subplot(n_rows, n_cols, row * n_cols + col + 1)\n",
    "        ax.imshow(env.render('rgb_array'))\n",
    "        env.step(env.action_space.sample())\n",
    "plt.show()"
   ]
  },
  {
   "cell_type": "markdown",
   "metadata": {},
   "source": [
    "### Processing game image \n",
    "\n",
    "Raw Atari images are large, 210x160x3 by default. However, we don't need that level of detail in order to learn them.\n",
    "\n",
    "We can thus save a lot of time by preprocessing game image, including\n",
    "* Resizing to a smaller shape, 64 x 64\n",
    "* Converting to grayscale\n",
    "* Cropping irrelevant image parts (top & bottom)\n",
    "\n",
    "Tip: You can implement your own grayscale converter and assign a huge weight to the red channel. This dirty trick is not necessary but it will speed up learning."
   ]
  },
  {
   "cell_type": "code",
   "execution_count": 9,
   "metadata": {},
   "outputs": [],
   "source": [
    "from gym.core import ObservationWrapper\n",
    "from gym.spaces import Box\n",
    "\n",
    "import cv2\n",
    "\n",
    "from sklearn.preprocessing import MinMaxScaler\n",
    "\n",
    "class PreprocessAtariObs(ObservationWrapper):\n",
    "    def __init__(self, env):\n",
    "        \"\"\"A gym wrapper that crops, scales image into the desired shapes and optionally grayscales it.\"\"\"\n",
    "        super().__init__(env)\n",
    "\n",
    "        self.img_size = (64, 64, 1)\n",
    "        self.observation_space = Box(0.0, 1.0, self.img_size)\n",
    "\n",
    "    def _to_gray_scale(self, rgb, channel_weights=[0.8, 0.1, 0.1]):\n",
    "        #<YOUR CODE>\n",
    "        return cv2.cvtColor(rgb, cv2.COLOR_BGR2GRAY)\n",
    "    \n",
    "    def observation(self, img):\n",
    "        \"\"\"what happens to each observation\"\"\"\n",
    "\n",
    "        # Here's what you need to do:\n",
    "        #  * Crop image, remove irrelevant parts.\n",
    "        #  * Resize image to self.img_size. Use cv2.resize or any other library you want,\n",
    "        #    e.g. PIL or Keras. Do not use skimage.transform.resize because it is roughly\n",
    "        #    6x slower than cv2.resize.\n",
    "        #  * Cast image to grayscale.\n",
    "        #  * Convert image pixels to (0, 1) range, float32 type.\n",
    "\n",
    "        #<YOUR CODE>\n",
    "        processed_img=img[30:-15,5:-6]\n",
    "        processed_img=cv2.resize(processed_img,self.img_size[:-1])\n",
    "        processed_img=self._to_gray_scale(processed_img)\n",
    "        processed_img=MinMaxScaler().fit_transform(processed_img)\n",
    "        processed_img=processed_img.reshape(self.img_size).astype(np.float32)\n",
    "        return processed_img#<YOUR CODE>"
   ]
  },
  {
   "cell_type": "code",
   "execution_count": 10,
   "metadata": {},
   "outputs": [
    {
     "name": "stdout",
     "output_type": "stream",
     "text": [
      "Formal tests seem fine. Here's an example of what you'll get.\n"
     ]
    },
    {
     "data": {
      "image/png": "[encoded data removed]",
      "text/plain": [
       "<Figure size 1152x648 with 10 Axes>"
      ]
     },
     "metadata": {
      "needs_background": "light"
     },
     "output_type": "display_data"
    }
   ],
   "source": [
    "import gym\n",
    "# spawn game instance for tests\n",
    "env = gym.make(ENV_NAME)  # create raw env\n",
    "env = PreprocessAtariObs(env)\n",
    "\n",
    "observation_shape = env.observation_space.shape\n",
    "n_actions = env.action_space.n\n",
    "\n",
    "obs = env.reset()\n",
    "\n",
    "\n",
    "# test observation\n",
    "assert obs.ndim == 3, \"observation must be [height, width, channels] even if there's just one channel\"\n",
    "assert obs.shape == observation_shape, (obs.shape, observation_shape)\n",
    "assert obs.dtype == np.float32\n",
    "assert len(np.unique(obs)) > 2, \"your image must not be binary\"\n",
    "assert 0 <= np.min(obs) and np.max(obs) <= 1, \"convert image pixels to (0,1) range\"\n",
    "assert np.max(obs) >= 0.5, \"It would be easier to see a brighter observation\"\n",
    "assert np.mean(obs) >= 0.1, \"It would be easier to see a brighter observation\"\n",
    "\n",
    "assert np.max(obs) >= 0.5, \"It would be easier to see a brighter observation\"\n",
    "assert np.mean(obs) >= 0.1, \"It would be easier to see a brighter observation\"\n",
    "\n",
    "print(\"Formal tests seem fine. Here's an example of what you'll get.\")\n",
    "\n",
    "\n",
    "n_cols = 5\n",
    "n_rows = 2\n",
    "fig = plt.figure(figsize=(16, 9))\n",
    "obs = env.reset()\n",
    "for row in range(n_rows):\n",
    "    for col in range(n_cols):\n",
    "        ax = fig.add_subplot(n_rows, n_cols, row * n_cols + col + 1)\n",
    "        ax.imshow(obs[:, :, 0], interpolation='none', cmap='gray')\n",
    "        obs, _, _, _ = env.step(env.action_space.sample())\n",
    "plt.show()"
   ]
  },
  {
   "cell_type": "markdown",
   "metadata": {},
   "source": [
    "### Wrapping."
   ]
  },
  {
   "cell_type": "markdown",
   "metadata": {},
   "source": [
    "**About the game:** You have 5 lives and get points for breaking the wall. Higher bricks cost more than the lower ones. There are 4 actions: start game (should be called at the beginning and after each life is lost), move left, move right and do nothing. There are some common wrappers used for Atari environments."
   ]
  },
  {
   "cell_type": "code",
   "execution_count": 11,
   "metadata": {},
   "outputs": [],
   "source": [
    "import atari_wrappers\n",
    "\n",
    "def PrimaryAtariWrap(env, clip_rewards=True):\n",
    "    assert 'NoFrameskip' in env.spec.id\n",
    "\n",
    "    # This wrapper holds the same action for <skip> frames and outputs\n",
    "    # the maximal pixel value of 2 last frames (to handle blinking\n",
    "    # in some envs)\n",
    "    env = atari_wrappers.MaxAndSkipEnv(env, skip=4)\n",
    "\n",
    "    # This wrapper sends done=True when each life is lost\n",
    "    # (not all the 5 lives that are givern by the game rules).\n",
    "    # It should make easier for the agent to understand that losing is bad.\n",
    "    env = atari_wrappers.EpisodicLifeEnv(env)\n",
    "\n",
    "    # This wrapper laucnhes the ball when an episode starts.\n",
    "    # Without it the agent has to learn this action, too.\n",
    "    # Actually it can but learning would take longer.\n",
    "    env = atari_wrappers.FireResetEnv(env)\n",
    "\n",
    "    # This wrapper transforms rewards to {-1, 0, 1} according to their sign\n",
    "    if clip_rewards:\n",
    "        env = atari_wrappers.ClipRewardEnv(env)\n",
    "\n",
    "    # This wrapper is yours :)\n",
    "    env = PreprocessAtariObs(env)\n",
    "    return env"
   ]
  },
  {
   "cell_type": "markdown",
   "metadata": {},
   "source": [
    "### Frame buffer\n",
    "\n",
    "Our agent can only process one observation at a time, so we gotta make sure it contains enough information to fing optimal actions. For instance, agent has to react to moving objects so he must be able to measure object's velocity.\n",
    "\n",
    "To do so, we introduce a buffer that stores 4 last images. This time everything is pre-implemented for you."
   ]
  },
  {
   "cell_type": "code",
   "execution_count": 12,
   "metadata": {},
   "outputs": [],
   "source": [
    "from framebuffer import FrameBuffer\n",
    "\n",
    "\n",
    "def make_env(clip_rewards=True, seed=None):\n",
    "    env = gym.make(ENV_NAME)  # create raw env\n",
    "    if seed is not None:\n",
    "        env.seed(seed)\n",
    "    env = PrimaryAtariWrap(env, clip_rewards)\n",
    "    env = FrameBuffer(env, n_frames=4, dim_order='tensorflow')\n",
    "    return env\n",
    "\n",
    "\n",
    "env = make_env()\n",
    "env.reset()\n",
    "n_actions = env.action_space.n\n",
    "state_shape = env.observation_space.shape"
   ]
  },
  {
   "cell_type": "code",
   "execution_count": 13,
   "metadata": {},
   "outputs": [
    {
     "data": {
      "image/png": "[encoded data removed]",
      "text/plain": [
       "<Figure size 432x288 with 1 Axes>"
      ]
     },
     "metadata": {
      "needs_background": "light"
     },
     "output_type": "display_data"
    },
    {
     "data": {
      "image/png": "[encoded data removed]",
      "text/plain": [
       "<Figure size 864x720 with 1 Axes>"
      ]
     },
     "metadata": {
      "needs_background": "light"
     },
     "output_type": "display_data"
    }
   ],
   "source": [
    "for _ in range(50):\n",
    "    obs, _, _, _ = env.step(env.action_space.sample())\n",
    "\n",
    "\n",
    "plt.figure()\n",
    "plt.title(\"Game image\")\n",
    "plt.imshow(env.render(\"rgb_array\"))\n",
    "plt.show()\n",
    "\n",
    "plt.figure(figsize=[12,10])\n",
    "plt.title(\"Agent observation (4 frames left to right)\")\n",
    "plt.imshow(obs.transpose([0, 2, 1]).reshape([state_shape[0], -1]))\n",
    "plt.show()"
   ]
  },
  {
   "cell_type": "markdown",
   "metadata": {},
   "source": [
    "## DQN as it is (4 pts)"
   ]
  },
  {
   "cell_type": "markdown",
   "metadata": {},
   "source": [
    "### Building a network\n",
    "\n",
    "We now need to build a neural network that can map images to state q-values. This network will be called on every agent's step so it better not be resnet-152 unless you have an array of GPUs. Instead, you can use strided convolutions with a small number of features to save time and memory.\n",
    "\n",
    "You can build any architecture you want, but for reference, here's something that will more or less work:"
   ]
  },
  {
   "cell_type": "markdown",
   "metadata": {},
   "source": [
    "![img](https://github.com/yandexdataschool/Practical_RL/raw/master/yet_another_week/_resource/dqn_arch.png)"
   ]
  },
  {
   "cell_type": "markdown",
   "metadata": {},
   "source": [
    "**Dueling network: (+2 pts)**\n",
    "$$Q_{\\theta}(s, a) = V_{\\eta}(f_{\\xi}(s)) + A_{\\psi}(f_{\\xi}(s), a) - \\frac{\\sum_{a'}A_{\\psi}(f_{\\xi}(s), a')}{N_{actions}},$$\n",
    "where $\\xi$, $\\eta$, and $\\psi$ are, respectively, the parameters of the\n",
    "shared encoder $f_ξ$ , of the value stream $V_\\eta$ , and of the advan\n",
    "tage stream $A_\\psi$; and $\\theta = \\{\\xi, \\eta, \\psi\\}$ is their concatenation.\n",
    "\n",
    "For the architecture on the image $V$ and $A$ heads can follow the dense layer instead of $Q$. Please don't worry that the model becomes a little bigger."
   ]
  },
  {
   "cell_type": "code",
   "execution_count": 14,
   "metadata": {},
   "outputs": [
    {
     "name": "stderr",
     "output_type": "stream",
     "text": [
      "/home/ubuntu/anaconda3/lib/python3.7/site-packages/tensorflow/python/framework/dtypes.py:516: FutureWarning: Passing (type, 1) or '1type' as a synonym of type is deprecated; in a future version of numpy, it will be understood as (type, (1,)) / '(1,)type'.\n",
      "  _np_qint8 = np.dtype([(\"qint8\", np.int8, 1)])\n",
      "/home/ubuntu/anaconda3/lib/python3.7/site-packages/tensorflow/python/framework/dtypes.py:517: FutureWarning: Passing (type, 1) or '1type' as a synonym of type is deprecated; in a future version of numpy, it will be understood as (type, (1,)) / '(1,)type'.\n",
      "  _np_quint8 = np.dtype([(\"quint8\", np.uint8, 1)])\n",
      "/home/ubuntu/anaconda3/lib/python3.7/site-packages/tensorflow/python/framework/dtypes.py:518: FutureWarning: Passing (type, 1) or '1type' as a synonym of type is deprecated; in a future version of numpy, it will be understood as (type, (1,)) / '(1,)type'.\n",
      "  _np_qint16 = np.dtype([(\"qint16\", np.int16, 1)])\n",
      "/home/ubuntu/anaconda3/lib/python3.7/site-packages/tensorflow/python/framework/dtypes.py:519: FutureWarning: Passing (type, 1) or '1type' as a synonym of type is deprecated; in a future version of numpy, it will be understood as (type, (1,)) / '(1,)type'.\n",
      "  _np_quint16 = np.dtype([(\"quint16\", np.uint16, 1)])\n",
      "/home/ubuntu/anaconda3/lib/python3.7/site-packages/tensorflow/python/framework/dtypes.py:520: FutureWarning: Passing (type, 1) or '1type' as a synonym of type is deprecated; in a future version of numpy, it will be understood as (type, (1,)) / '(1,)type'.\n",
      "  _np_qint32 = np.dtype([(\"qint32\", np.int32, 1)])\n",
      "/home/ubuntu/anaconda3/lib/python3.7/site-packages/tensorflow/python/framework/dtypes.py:525: FutureWarning: Passing (type, 1) or '1type' as a synonym of type is deprecated; in a future version of numpy, it will be understood as (type, (1,)) / '(1,)type'.\n",
      "  np_resource = np.dtype([(\"resource\", np.ubyte, 1)])\n",
      "/home/ubuntu/anaconda3/lib/python3.7/site-packages/tensorboard/compat/tensorflow_stub/dtypes.py:541: FutureWarning: Passing (type, 1) or '1type' as a synonym of type is deprecated; in a future version of numpy, it will be understood as (type, (1,)) / '(1,)type'.\n",
      "  _np_qint8 = np.dtype([(\"qint8\", np.int8, 1)])\n",
      "/home/ubuntu/anaconda3/lib/python3.7/site-packages/tensorboard/compat/tensorflow_stub/dtypes.py:542: FutureWarning: Passing (type, 1) or '1type' as a synonym of type is deprecated; in a future version of numpy, it will be understood as (type, (1,)) / '(1,)type'.\n",
      "  _np_quint8 = np.dtype([(\"quint8\", np.uint8, 1)])\n",
      "/home/ubuntu/anaconda3/lib/python3.7/site-packages/tensorboard/compat/tensorflow_stub/dtypes.py:543: FutureWarning: Passing (type, 1) or '1type' as a synonym of type is deprecated; in a future version of numpy, it will be understood as (type, (1,)) / '(1,)type'.\n",
      "  _np_qint16 = np.dtype([(\"qint16\", np.int16, 1)])\n",
      "/home/ubuntu/anaconda3/lib/python3.7/site-packages/tensorboard/compat/tensorflow_stub/dtypes.py:544: FutureWarning: Passing (type, 1) or '1type' as a synonym of type is deprecated; in a future version of numpy, it will be understood as (type, (1,)) / '(1,)type'.\n",
      "  _np_quint16 = np.dtype([(\"quint16\", np.uint16, 1)])\n",
      "/home/ubuntu/anaconda3/lib/python3.7/site-packages/tensorboard/compat/tensorflow_stub/dtypes.py:545: FutureWarning: Passing (type, 1) or '1type' as a synonym of type is deprecated; in a future version of numpy, it will be understood as (type, (1,)) / '(1,)type'.\n",
      "  _np_qint32 = np.dtype([(\"qint32\", np.int32, 1)])\n",
      "/home/ubuntu/anaconda3/lib/python3.7/site-packages/tensorboard/compat/tensorflow_stub/dtypes.py:550: FutureWarning: Passing (type, 1) or '1type' as a synonym of type is deprecated; in a future version of numpy, it will be understood as (type, (1,)) / '(1,)type'.\n",
      "  np_resource = np.dtype([(\"resource\", np.ubyte, 1)])\n"
     ]
    }
   ],
   "source": [
    "import tensorflow as tf\n",
    "tf.reset_default_graph()\n",
    "sess = tf.InteractiveSession()"
   ]
  },
  {
   "cell_type": "code",
   "execution_count": 15,
   "metadata": {},
   "outputs": [
    {
     "data": {
      "text/plain": [
       "(64, 64, 4)"
      ]
     },
     "execution_count": 15,
     "metadata": {},
     "output_type": "execute_result"
    }
   ],
   "source": [
    "state_shape"
   ]
  },
  {
   "cell_type": "code",
   "execution_count": 16,
   "metadata": {},
   "outputs": [],
   "source": [
    "from tensorflow.keras.layers import Conv2D, Dense, Flatten\n",
    "from tensorflow.keras import models\n",
    "from tensorflow import keras\n",
    "\n",
    "\n",
    "class DQNAgent:\n",
    "    def __init__(self, name, state_shape, n_actions, epsilon=0, reuse=False):\n",
    "        \"\"\"A simple DQN agent\"\"\"\n",
    "        with tf.variable_scope(name, reuse=reuse):\n",
    "\n",
    "            #<YOUR CODE: define your network body here. Please make sure you don't use any layers created elsewhere>\n",
    "            self.conv2d_1=Conv2D(16,3,strides=(2,2),activation='relu',input_shape=state_shape)\n",
    "            self.conv2d_2=Conv2D(32,3,strides=(2,2),activation='relu')\n",
    "            self.conv2d_3=Conv2D(64,3,strides=(2,2),activation='relu')\n",
    "            self.flatten=Flatten()\n",
    "            self.dense=Dense(256,activation='relu')\n",
    "            self.output=Dense(n_actions,activation='linear')\n",
    "            \n",
    "            # prepare a graph for agent step\n",
    "            self.state_t = tf.placeholder('float32', [None, ] + list(state_shape))\n",
    "            self.qvalues_t = self.get_symbolic_qvalues(self.state_t)\n",
    "\n",
    "        self.weights = tf.get_collection(tf.GraphKeys.TRAINABLE_VARIABLES, scope=name)\n",
    "        self.epsilon = epsilon\n",
    "\n",
    "    def get_symbolic_qvalues(self, state_t):\n",
    "        \"\"\"takes agent's observation, returns qvalues. Both are tf Tensors\"\"\"\n",
    "        #<YOUR CODE: apply your network layers here>\n",
    "        qvalues = self.output(self.dense(self.flatten(self.conv2d_3(self.conv2d_2(self.conv2d_1(state_t))))))#<YOUR CODE: symbolic tensor for q-values>\n",
    "\n",
    "        assert tf.is_numeric_tensor(qvalues) and qvalues.shape.ndims == 2, \\\n",
    "            \"please return 2d tf tensor of qvalues [you got %s]\" % repr(qvalues)\n",
    "        assert int(qvalues.shape[1]) == n_actions\n",
    "\n",
    "        return qvalues\n",
    "\n",
    "    def get_qvalues(self, state_t):\n",
    "        \"\"\"Same as symbolic step except it operates on numpy arrays\"\"\"\n",
    "        sess = tf.get_default_session()\n",
    "        return sess.run(self.qvalues_t, {self.state_t: state_t})\n",
    "\n",
    "    def sample_actions(self, qvalues):\n",
    "        \"\"\"pick actions given qvalues. Uses epsilon-greedy exploration strategy. \"\"\"\n",
    "        epsilon = self.epsilon\n",
    "        batch_size, n_actions = qvalues.shape\n",
    "        random_actions = np.random.choice(n_actions, size=batch_size)\n",
    "        best_actions = qvalues.argmax(axis=-1)\n",
    "        should_explore = np.random.choice([0, 1], batch_size, p=[1-epsilon, epsilon])\n",
    "        return np.where(should_explore, random_actions, best_actions)"
   ]
  },
  {
   "cell_type": "code",
   "execution_count": 17,
   "metadata": {},
   "outputs": [
    {
     "name": "stdout",
     "output_type": "stream",
     "text": [
      "WARNING:tensorflow:From /home/ubuntu/anaconda3/lib/python3.7/site-packages/tensorflow/python/ops/init_ops.py:1251: calling VarianceScaling.__init__ (from tensorflow.python.ops.init_ops) with dtype is deprecated and will be removed in a future version.\n",
      "Instructions for updating:\n",
      "Call initializer instance with the dtype argument instead of passing it to the constructor\n"
     ]
    }
   ],
   "source": [
    "agent = DQNAgent(\"dqn_agent\", state_shape, n_actions, epsilon=1)\n",
    "sess.run(tf.global_variables_initializer())"
   ]
  },
  {
   "cell_type": "markdown",
   "metadata": {},
   "source": [
    "Now let's try out our agent to see if it raises any errors."
   ]
  },
  {
   "cell_type": "code",
   "execution_count": 18,
   "metadata": {},
   "outputs": [],
   "source": [
    "def evaluate(env, agent, n_games=1, greedy=False, t_max=10000):\n",
    "    \"\"\" Plays n_games full games. If greedy, picks actions as argmax(qvalues). Returns mean reward. \"\"\"\n",
    "    rewards = []\n",
    "    for _ in range(n_games):\n",
    "        s = env.reset()\n",
    "        reward = 0\n",
    "        for _ in range(t_max):\n",
    "            qvalues = agent.get_qvalues([s])\n",
    "            action = qvalues.argmax(axis=-1)[0] if greedy else agent.sample_actions(qvalues)[0]\n",
    "            s, r, done, _ = env.step(action)\n",
    "            reward += r\n",
    "            if done:\n",
    "                break\n",
    "\n",
    "        rewards.append(reward)\n",
    "    return np.mean(rewards)"
   ]
  },
  {
   "cell_type": "code",
   "execution_count": 19,
   "metadata": {},
   "outputs": [
    {
     "data": {
      "text/plain": [
       "1.0"
      ]
     },
     "execution_count": 19,
     "metadata": {},
     "output_type": "execute_result"
    }
   ],
   "source": [
    "evaluate(env, agent, n_games=1)"
   ]
  },
  {
   "cell_type": "markdown",
   "metadata": {},
   "source": [
    "### Experience replay\n",
    "For this assignment, we provide you with experience replay buffer. If you implemented experience replay buffer in last week's assignment, you can copy-paste it here __to get 2 bonus points__.\n",
    "\n",
    "![img](https://github.com/yandexdataschool/Practical_RL/raw/master/yet_another_week/_resource/exp_replay.png)"
   ]
  },
  {
   "cell_type": "markdown",
   "metadata": {},
   "source": [
    "#### The interface is fairly simple:\n",
    "* `exp_replay.add(obs, act, rw, next_obs, done)` - saves (s,a,r,s',done) tuple into the buffer\n",
    "* `exp_replay.sample(batch_size)` - returns observations, actions, rewards, next_observations and is_done for `batch_size` random samples.\n",
    "* `len(exp_replay)` - returns number of elements stored in replay buffer."
   ]
  },
  {
   "cell_type": "code",
   "execution_count": 20,
   "metadata": {},
   "outputs": [],
   "source": [
    "from replay_buffer import ReplayBuffer\n",
    "exp_replay = ReplayBuffer(10)\n",
    "\n",
    "for _ in range(30):\n",
    "    exp_replay.add(env.reset(), env.action_space.sample(), 1.0, env.reset(), done=False)\n",
    "\n",
    "obs_batch, act_batch, reward_batch, next_obs_batch, is_done_batch = exp_replay.sample(5)\n",
    "\n",
    "assert len(exp_replay) == 10, \"experience replay size should be 10 because that's what maximum capacity is\""
   ]
  },
  {
   "cell_type": "code",
   "execution_count": 21,
   "metadata": {},
   "outputs": [],
   "source": [
    "from tqdm import tqdm\n",
    "\n",
    "def play_and_record(initial_state, agent, env, exp_replay, n_steps=1, debug=False):\n",
    "    \"\"\"\n",
    "    Play the game for exactly n steps, record every (s,a,r,s', done) to replay buffer. \n",
    "    Whenever game ends, add record with done=True and reset the game.\n",
    "    It is guaranteed that env has done=False when passed to this function.\n",
    "\n",
    "    PLEASE DO NOT RESET ENV UNLESS IT IS \"DONE\"\n",
    "\n",
    "    :returns: return sum of rewards over time and the state in which the env stays\n",
    "    \"\"\"\n",
    "    # initial state\n",
    "    s = initial_state\n",
    "    sum_rewards = 0\n",
    "\n",
    "    # Play the game for n_steps as per instructions above\n",
    "    #<YOUR CODE>\n",
    "    for step in range(n_steps):\n",
    "        if debug:\n",
    "            print(f'step no. = {step}',end='\\r')\n",
    "        qvalues = agent.get_qvalues([s])\n",
    "        action=agent.sample_actions(qvalues)[0]\n",
    "        next_s, r, done, _ = env.step(action)\n",
    "        sum_rewards+=r\n",
    "        exp_replay.add(s, action, r, next_s, done)\n",
    "        if done:\n",
    "            s=env.reset()\n",
    "        else:\n",
    "            s=next_s\n",
    "           \n",
    "    return sum_rewards, s"
   ]
  },
  {
   "cell_type": "code",
   "execution_count": 22,
   "metadata": {},
   "outputs": [
    {
     "name": "stdout",
     "output_type": "stream",
     "text": [
      "Well done! 999\n"
     ]
    }
   ],
   "source": [
    "# testing your code.\n",
    "exp_replay = ReplayBuffer(2000)\n",
    "\n",
    "state = env.reset()\n",
    "play_and_record(state, agent, env, exp_replay, n_steps=1000, debug=True)\n",
    "\n",
    "# if you're using your own experience replay buffer, some of those tests may need correction.\n",
    "# just make sure you know what your code does\n",
    "assert len(exp_replay) == 1000, \"play_and_record should have added exactly 1000 steps, \"\\\n",
    "                                 \"but instead added %i\" % len(exp_replay)\n",
    "is_dones = list(zip(*exp_replay._storage))[-1]\n",
    "\n",
    "assert 0 < np.mean(is_dones) < 0.1, \"Please make sure you restart the game whenever it is 'done' and record the is_done correctly into the buffer.\"\\\n",
    "                                    \"Got %f is_done rate over %i steps. [If you think it's your tough luck, just re-run the test]\" % (\n",
    "                                        np.mean(is_dones), len(exp_replay))\n",
    "\n",
    "for _ in range(100):\n",
    "    obs_batch, act_batch, reward_batch, next_obs_batch, is_done_batch = exp_replay.sample(\n",
    "        10)\n",
    "    assert obs_batch.shape == next_obs_batch.shape == (10,) + state_shape\n",
    "    assert act_batch.shape == (10,), \\\n",
    "        \"actions batch should have shape (10,) but is instead %s\" % str(act_batch.shape)\n",
    "    assert reward_batch.shape == (10,), \\\n",
    "        \"rewards batch should have shape (10,) but is instead %s\" % str(reward_batch.shape)\n",
    "    assert is_done_batch.shape == (10,), \\\n",
    "        \"is_done batch should have shape (10,) but is instead %s\" % str(is_done_batch.shape)\n",
    "    assert [int(i) in (0, 1) for i in is_dones], \"is_done should be strictly True or False\"\n",
    "    assert [0 <= a < n_actions for a in act_batch], \"actions should be within [0, n_actions)\"\n",
    "\n",
    "print(\"Well done!\")"
   ]
  },
  {
   "cell_type": "markdown",
   "metadata": {},
   "source": [
    "### Target networks\n",
    "\n",
    "We also employ the so called \"target network\" - a copy of neural network weights to be used for reference Q-values:\n",
    "\n",
    "The network itself is an exact copy of agent network, but it's parameters are not trained. Instead, they are moved here from agent's actual network every so often.\n",
    "\n",
    "$$ Q_{reference}(s,a) = r + \\gamma \\cdot \\max _{a'} Q_{target}(s',a') $$\n",
    "\n",
    "![img](https://github.com/yandexdataschool/Practical_RL/raw/master/yet_another_week/_resource/target_net.png)\n",
    "\n"
   ]
  },
  {
   "cell_type": "code",
   "execution_count": 23,
   "metadata": {},
   "outputs": [],
   "source": [
    "target_network = DQNAgent(\"target_network\", state_shape, n_actions)"
   ]
  },
  {
   "cell_type": "code",
   "execution_count": 24,
   "metadata": {},
   "outputs": [],
   "source": [
    "def load_weigths_into_target_network(agent, target_network):\n",
    "    \"\"\" assign target_network.weights variables to their respective agent.weights values. \"\"\"\n",
    "    assigns = []\n",
    "    for w_agent, w_target in zip(agent.weights, target_network.weights):\n",
    "        assigns.append(tf.assign(w_target, w_agent, validate_shape=True))\n",
    "    # tf.get_default_session().run(assigns)\n",
    "    return assigns"
   ]
  },
  {
   "cell_type": "code",
   "execution_count": 25,
   "metadata": {},
   "outputs": [
    {
     "name": "stdout",
     "output_type": "stream",
     "text": [
      "It works!\n"
     ]
    }
   ],
   "source": [
    "# create the tf copy graph only once.\n",
    "copy_step = load_weigths_into_target_network(agent, target_network)\n",
    "sess.run(copy_step)\n",
    "# check that it works\n",
    "sess.run([tf.assert_equal(w, w_target) for w, w_target in zip(agent.weights, target_network.weights)])\n",
    "print(\"It works!\")"
   ]
  },
  {
   "cell_type": "markdown",
   "metadata": {},
   "source": [
    "### Learning with... Q-learning\n",
    "Here we write a function similar to `agent.update` from tabular q-learning."
   ]
  },
  {
   "cell_type": "code",
   "execution_count": 26,
   "metadata": {},
   "outputs": [],
   "source": [
    "# placeholders that will be fed with exp_replay.sample(batch_size)\n",
    "obs_ph = tf.placeholder(tf.float32, shape=(None,) + state_shape)\n",
    "actions_ph = tf.placeholder(tf.int32, shape=[None])\n",
    "rewards_ph = tf.placeholder(tf.float32, shape=[None])\n",
    "next_obs_ph = tf.placeholder(tf.float32, shape=(None,) + state_shape)\n",
    "is_done_ph = tf.placeholder(tf.float32, shape=[None])\n",
    "\n",
    "is_not_done = 1 - is_done_ph\n",
    "gamma = 0.99"
   ]
  },
  {
   "cell_type": "markdown",
   "metadata": {},
   "source": [
    "Take q-values for actions agent just took"
   ]
  },
  {
   "cell_type": "code",
   "execution_count": 27,
   "metadata": {},
   "outputs": [],
   "source": [
    "current_qvalues = agent.get_symbolic_qvalues(obs_ph)\n",
    "current_action_qvalues = tf.reduce_sum(tf.one_hot(actions_ph, n_actions) * current_qvalues, axis=1)"
   ]
  },
  {
   "cell_type": "markdown",
   "metadata": {},
   "source": [
    "Compute Q-learning TD error:\n",
    "\n",
    "$$ L = { 1 \\over N} \\sum_i [ Q_{\\theta}(s,a) - Q_{reference}(s,a) ] ^2 $$\n",
    "\n",
    "With Q-reference defined as\n",
    "\n",
    "$$ Q_{reference}(s,a) = r(s,a) + \\gamma \\cdot max_{a'} Q_{target}(s', a') $$\n",
    "\n",
    "Where\n",
    "* $Q_{target}(s',a')$ denotes q-value of next state and next action predicted by __target_network__\n",
    "* $s, a, r, s'$ are current state, action, reward and next state respectively\n",
    "* $\\gamma$ is a discount factor defined two cells above.\n",
    "\n",
    "\n",
    "__Note 1:__ there's an example input below. Feel free to experiment with it before you write the function.\n",
    "\n",
    "__Note 2:__ compute_td_loss is a source of 99% of bugs in this homework. If reward doesn't improve, it often helps to go through it line by line [with a rubber duck](https://rubberduckdebugging.com/).\n",
    "\n",
    "**Double DQN (+2 pts)**\n",
    "\n",
    "$$ Q_{reference}(s,a) = r(s, a) + \\gamma \\cdot\n",
    "Q_{target}(s',argmax_{a'}Q_\\theta(s', a')) $$"
   ]
  },
  {
   "cell_type": "code",
   "execution_count": 28,
   "metadata": {},
   "outputs": [
    {
     "name": "stdout",
     "output_type": "stream",
     "text": [
      "WARNING:tensorflow:From /home/ubuntu/anaconda3/lib/python3.7/site-packages/tensorflow/python/ops/math_grad.py:1205: add_dispatch_support.<locals>.wrapper (from tensorflow.python.ops.array_ops) is deprecated and will be removed in a future version.\n",
      "Instructions for updating:\n",
      "Use tf.where in 2.0, which has the same broadcast rule as np.where\n"
     ]
    }
   ],
   "source": [
    "#here is the problem\n",
    "next_qvalues_target = target_network.get_symbolic_qvalues(next_obs_ph)\n",
    "is_not_done_expand=tf.keras.backend.repeat_elements(tf.expand_dims(is_not_done,axis=-1),\\\n",
    "                                                    int(next_qvalues_target.shape[1]),axis=-1)\n",
    "next_qvalues_target=next_qvalues_target*is_not_done_expand#<YOUR CODE: compute q-values for NEXT states with target network>\n",
    "next_state_values_target = tf.reduce_max(next_qvalues_target,axis=1)#<YOUR CODE: compute state values by taking max over next_qvalues_target for all actions>\n",
    "reference_qvalues = rewards_ph+gamma*next_state_values_target#<YOUR CODE: compute Q_reference(s,a) as per formula above>\n",
    "\n",
    "# Define loss function for sgd.\n",
    "td_loss = (current_action_qvalues - reference_qvalues) ** 2\n",
    "td_loss = tf.reduce_mean(td_loss)\n",
    "\n",
    "train_step = tf.train.AdamOptimizer(1e-3).minimize(td_loss, var_list=agent.weights)"
   ]
  },
  {
   "cell_type": "code",
   "execution_count": 29,
   "metadata": {},
   "outputs": [
    {
     "data": {
      "text/plain": [
       "<tf.Tensor 'concat:0' shape=(?, 4) dtype=float32>"
      ]
     },
     "execution_count": 29,
     "metadata": {},
     "output_type": "execute_result"
    }
   ],
   "source": [
    "t=tf.placeholder('float32',shape=(None,))\n",
    "#t=tf.keras.backend.repeat_elements(t,5,axis=-1)\n",
    "#t.eval()\n",
    "int(next_qvalues_target.shape[-1])\n",
    "is_not_done_expand"
   ]
  },
  {
   "cell_type": "code",
   "execution_count": 30,
   "metadata": {},
   "outputs": [],
   "source": [
    "sess.run(tf.global_variables_initializer())"
   ]
  },
  {
   "cell_type": "code",
   "execution_count": 31,
   "metadata": {},
   "outputs": [
    {
     "name": "stdout",
     "output_type": "stream",
     "text": [
      "Splendid!\n"
     ]
    }
   ],
   "source": [
    "for chk_grad in tf.gradients(reference_qvalues, agent.weights):\n",
    "    error_msg = \"Reference q-values should have no gradient w.r.t. agent weights. Make sure you used target_network qvalues! \"\n",
    "    error_msg += \"If you know what you're doing, ignore this assert.\"\n",
    "    assert chk_grad is None or np.allclose(sess.run(chk_grad), sess.run(chk_grad * 0)), error_msg\n",
    "\n",
    "assert tf.gradients(reference_qvalues, is_not_done)[0] is not None, \"make sure you used is_not_done\"\n",
    "assert tf.gradients(reference_qvalues, rewards_ph)[0] is not None, \"make sure you used rewards\"\n",
    "assert tf.gradients(reference_qvalues, next_obs_ph)[0] is not None, \"make sure you used next states\"\n",
    "assert tf.gradients(reference_qvalues, obs_ph)[0] is None, \"reference qvalues shouldn't depend on current observation!\"  # ignore if you're certain it's ok\n",
    "print(\"Splendid!\")"
   ]
  },
  {
   "cell_type": "markdown",
   "metadata": {},
   "source": [
    "## Main loop (3 pts)\n",
    "\n",
    "**If deadline is tonight and it has not converged:** It is ok. Send the notebook today and when it converges send it again.\n",
    "If the code is exactly the same points will not be discounted.\n",
    "\n",
    "It's time to put everything together and see if it learns anything."
   ]
  },
  {
   "cell_type": "code",
   "execution_count": 32,
   "metadata": {},
   "outputs": [],
   "source": [
    "from tqdm import trange\n",
    "import pandas as pd\n",
    "from IPython.display import clear_output\n",
    "import matplotlib.pyplot as plt\n",
    "%matplotlib inline"
   ]
  },
  {
   "cell_type": "code",
   "execution_count": 33,
   "metadata": {},
   "outputs": [
    {
     "data": {
      "text/plain": [
       "[array([[[[-0.08823614,  0.06262468,  0.13142776,  0.10919547,\n",
       "            0.08392009,  0.04740433, -0.18140028,  0.07082704,\n",
       "            0.00962189, -0.12392519, -0.01988369,  0.11500683,\n",
       "            0.13344243, -0.06999885,  0.05278485,  0.06382111],\n",
       "          [ 0.1681149 ,  0.07667303,  0.13301867,  0.0487695 ,\n",
       "           -0.0577549 ,  0.17084572,  0.0492027 , -0.17827891,\n",
       "            0.05586009, -0.02541463, -0.03437631,  0.08655545,\n",
       "            0.10129461, -0.10819936, -0.05686726, -0.09381186],\n",
       "          [-0.00082022,  0.15127257, -0.16847569,  0.09474787,\n",
       "           -0.1397995 , -0.05783892,  0.0897305 ,  0.0129526 ,\n",
       "           -0.16568421, -0.01115763, -0.04959634,  0.04223935,\n",
       "           -0.17083766,  0.15580037, -0.14637993,  0.16063055],\n",
       "          [-0.07680118,  0.00757772,  0.05473202, -0.07232822,\n",
       "           -0.05468519,  0.05482449,  0.05992843, -0.01197529,\n",
       "           -0.00567257, -0.10328323, -0.02268191, -0.07701791,\n",
       "           -0.14165342, -0.05459438,  0.153667  ,  0.01271254]],\n",
       " \n",
       "         [[-0.08603922,  0.15501815, -0.02957818, -0.1004968 ,\n",
       "            0.17361078, -0.14363185, -0.13807449, -0.00596723,\n",
       "           -0.10411555, -0.07639135, -0.14270411, -0.11093842,\n",
       "           -0.0229356 , -0.17730668, -0.07849864,  0.06175631],\n",
       "          [-0.07739387, -0.15012155,  0.10742664,  0.00272022,\n",
       "            0.10390338, -0.09507007, -0.161109  ,  0.16342744,\n",
       "            0.14599934,  0.1690847 ,  0.06163861,  0.06608179,\n",
       "            0.14206633,  0.15161526,  0.08387512,  0.11919555],\n",
       "          [ 0.16910475, -0.12680869,  0.16234702, -0.15480925,\n",
       "            0.13411757, -0.02795947,  0.02580316,  0.01867737,\n",
       "            0.13121319, -0.1284141 , -0.17040145, -0.11728666,\n",
       "            0.13296828, -0.07645482,  0.16714886, -0.04900768],\n",
       "          [-0.07929514, -0.10412251, -0.07234851,  0.1560295 ,\n",
       "            0.02618   ,  0.16539359,  0.10424671, -0.14548127,\n",
       "            0.16390169, -0.00963555, -0.00765015, -0.00201012,\n",
       "           -0.15996505,  0.15680483, -0.00436231,  0.05821231]],\n",
       " \n",
       "         [[-0.08344163,  0.04105884, -0.11738317, -0.11407635,\n",
       "            0.01058431, -0.15321304,  0.1607914 , -0.08579803,\n",
       "            0.01870915,  0.05218066,  0.08994013,  0.13654453,\n",
       "           -0.11832056, -0.13203262,  0.06253836,  0.09244359],\n",
       "          [-0.1038922 , -0.11476441,  0.03942402, -0.11387424,\n",
       "            0.05432533,  0.04963943,  0.03715281, -0.00915238,\n",
       "            0.11308339, -0.07300901, -0.04369606, -0.07096441,\n",
       "           -0.13155924, -0.03860167,  0.02391079,  0.00158416],\n",
       "          [-0.1168132 , -0.04666822,  0.11729428, -0.06654947,\n",
       "            0.09523275, -0.12962955, -0.09561162, -0.05904079,\n",
       "           -0.10239241,  0.08827701, -0.04326551,  0.10006717,\n",
       "            0.03442119,  0.05057251,  0.01652843,  0.18038249],\n",
       "          [ 0.03549826,  0.04580717, -0.10204687,  0.11769256,\n",
       "           -0.17843613, -0.16868484,  0.16809201, -0.13237906,\n",
       "           -0.1765354 , -0.04373066,  0.04897465, -0.11598057,\n",
       "           -0.09490336,  0.01781741,  0.13707864, -0.03551751]]],\n",
       " \n",
       " \n",
       "        [[[ 0.04978073,  0.10245043, -0.02746868,  0.06587504,\n",
       "            0.03429791, -0.06321833,  0.0302403 , -0.13886446,\n",
       "           -0.12039141,  0.07006875,  0.0478802 , -0.04412791,\n",
       "            0.01547246,  0.14520782, -0.13242681,  0.07080579],\n",
       "          [-0.1260212 ,  0.02536631, -0.07682647,  0.04974285,\n",
       "           -0.07962827, -0.06477436, -0.07673824,  0.08045387,\n",
       "            0.0004224 , -0.09767681, -0.12695399, -0.03934127,\n",
       "            0.08394983,  0.06662679,  0.08027512, -0.17517734],\n",
       "          [-0.15632123, -0.05483559, -0.05950869,  0.0280447 ,\n",
       "           -0.12731184,  0.04054354,  0.16680086, -0.05485696,\n",
       "           -0.14942853,  0.05465733, -0.01698305,  0.14183056,\n",
       "           -0.07496142,  0.14681605, -0.17273226, -0.12337965],\n",
       "          [-0.07739057, -0.11079139, -0.0336172 ,  0.06048526,\n",
       "            0.05227669,  0.08125991,  0.17528   ,  0.1322299 ,\n",
       "            0.09161857,  0.14305165,  0.06544383,  0.05203427,\n",
       "           -0.03483258, -0.10236437, -0.09509871, -0.16708688]],\n",
       " \n",
       "         [[-0.17217687,  0.09228161,  0.07352358, -0.02586311,\n",
       "           -0.0329317 ,  0.16462737, -0.13209024,  0.1672849 ,\n",
       "            0.18013504,  0.04829851, -0.160175  , -0.18185186,\n",
       "           -0.11873004,  0.17941618,  0.10446888,  0.15462607],\n",
       "          [ 0.04480723, -0.13388391, -0.14976075, -0.1295455 ,\n",
       "            0.1299681 ,  0.12350047, -0.04665256, -0.00385146,\n",
       "           -0.1316237 , -0.03842215,  0.14700902,  0.12644327,\n",
       "           -0.01985736, -0.12325698, -0.17465964, -0.15141216],\n",
       "          [ 0.14508045,  0.17089197,  0.06855759,  0.03236683,\n",
       "           -0.01020575,  0.1433877 ,  0.03340138, -0.08650886,\n",
       "           -0.16879453,  0.04770774, -0.10664223, -0.05847984,\n",
       "           -0.05692515,  0.0194228 ,  0.13228068, -0.08273005],\n",
       "          [ 0.09923795,  0.08353278,  0.01928277,  0.1476956 ,\n",
       "           -0.12941656,  0.10438755,  0.08210981,  0.10485911,\n",
       "            0.03714606, -0.00379722,  0.17423213,  0.18070629,\n",
       "           -0.17746034,  0.1007663 , -0.1631583 , -0.06434394]],\n",
       " \n",
       "         [[ 0.13643268, -0.0858359 ,  0.07657114,  0.1194205 ,\n",
       "           -0.04288532,  0.06132816, -0.16940294, -0.04832868,\n",
       "           -0.14654961, -0.05787883, -0.13625127, -0.14652488,\n",
       "            0.12849778, -0.08467638, -0.13163824,  0.00125708],\n",
       "          [ 0.05100319, -0.09535044, -0.07987625, -0.17743814,\n",
       "            0.08917367,  0.13442063,  0.03303003, -0.07294098,\n",
       "           -0.01737668, -0.02923261, -0.12985842, -0.01033302,\n",
       "           -0.16153204,  0.04112062,  0.01181784, -0.15883094],\n",
       "          [-0.09832988, -0.15726894, -0.09770711, -0.13858   ,\n",
       "           -0.06393464,  0.10971975,  0.06167996,  0.04260848,\n",
       "            0.17480803, -0.17035422, -0.01792093, -0.07448896,\n",
       "            0.07172191, -0.06707788,  0.03247939, -0.11876369],\n",
       "          [ 0.03190903,  0.04775892,  0.07272351,  0.18045074,\n",
       "           -0.16298902,  0.15555206,  0.12698194,  0.11433986,\n",
       "            0.12433884,  0.09648705,  0.00916196,  0.1138275 ,\n",
       "            0.10489681, -0.09002188,  0.09253198,  0.00068484]]],\n",
       " \n",
       " \n",
       "        [[[-0.06736617, -0.01182546,  0.03362909, -0.10612603,\n",
       "            0.15636489, -0.03588115,  0.01077393, -0.16416587,\n",
       "           -0.17800947,  0.04846562, -0.04261179,  0.03862983,\n",
       "            0.15620992, -0.02523881, -0.07339956, -0.18139319],\n",
       "          [-0.0798843 , -0.13973969,  0.17815772, -0.03835987,\n",
       "           -0.1132711 ,  0.06458271, -0.05155972,  0.09843987,\n",
       "            0.13668618, -0.06074169,  0.08483601, -0.06766665,\n",
       "            0.09029329, -0.1139075 ,  0.06896999, -0.0118584 ],\n",
       "          [ 0.0115898 ,  0.02119313,  0.10478553, -0.0768246 ,\n",
       "           -0.12673143,  0.04298727,  0.08327761,  0.14544627,\n",
       "           -0.18195912,  0.16282901,  0.14179161,  0.08054242,\n",
       "            0.10090581, -0.03613792, -0.01901019,  0.05280481],\n",
       "          [-0.04037517, -0.14648253,  0.08349827,  0.11858597,\n",
       "           -0.10973115, -0.04423438,  0.00728811, -0.0592947 ,\n",
       "            0.10562587,  0.04909736, -0.11501867, -0.16158094,\n",
       "           -0.05602737, -0.14925373, -0.11870544,  0.11711976]],\n",
       " \n",
       "         [[ 0.03820443,  0.12020019, -0.08420735,  0.00824645,\n",
       "            0.09307984,  0.02820306, -0.14039673, -0.0922258 ,\n",
       "           -0.06933355, -0.04692382,  0.11029223, -0.07735931,\n",
       "           -0.06339649,  0.12119776, -0.00750546,  0.09292445],\n",
       "          [ 0.13892034,  0.1178219 ,  0.06830534, -0.01114035,\n",
       "           -0.1311034 ,  0.03462429,  0.06867552, -0.05313203,\n",
       "            0.02590424, -0.05191186, -0.10625108, -0.06126104,\n",
       "            0.0550372 ,  0.07748532,  0.1779243 ,  0.00504576],\n",
       "          [ 0.0178417 , -0.01017849,  0.10415098,  0.03117675,\n",
       "           -0.03280704,  0.16470942, -0.13040371, -0.04930647,\n",
       "           -0.11372559, -0.17879947,  0.0002415 ,  0.17900941,\n",
       "           -0.03924395,  0.12465471, -0.13827047, -0.07925665],\n",
       "          [ 0.01000263,  0.14848447, -0.16489063,  0.07469776,\n",
       "           -0.15582836, -0.16143864,  0.05244265,  0.11855233,\n",
       "            0.12442067, -0.13973708, -0.14279574,  0.07808626,\n",
       "           -0.16885185, -0.17393157, -0.07431323, -0.00157806]],\n",
       " \n",
       "         [[ 0.14240798, -0.08150663, -0.1126385 ,  0.07486966,\n",
       "            0.09433857,  0.06983975, -0.12861624, -0.04163669,\n",
       "            0.1760093 ,  0.04337333, -0.0562575 ,  0.18106276,\n",
       "           -0.04300298,  0.05714497, -0.02320112, -0.01901437],\n",
       "          [ 0.15447229,  0.02937059, -0.01283067,  0.01342185,\n",
       "            0.03597413, -0.11281326,  0.12350377,  0.12021556,\n",
       "            0.10730299,  0.08048677,  0.14264596,  0.04042044,\n",
       "           -0.14181046,  0.07891095,  0.03695858, -0.06581579],\n",
       "          [ 0.11954865, -0.14145248, -0.08674253, -0.08841766,\n",
       "           -0.10257614,  0.12906846,  0.08174843, -0.07362778,\n",
       "            0.06852135, -0.01177962, -0.11754505,  0.06114355,\n",
       "           -0.01003781,  0.06176549,  0.12152573, -0.10901226],\n",
       "          [-0.01431562,  0.18200016,  0.03800942,  0.1785343 ,\n",
       "           -0.15681276,  0.11949062,  0.06336445, -0.08558679,\n",
       "            0.14274278, -0.12575985,  0.12143752, -0.08574902,\n",
       "           -0.11614894, -0.03096141, -0.09525072,  0.04953039]]]],\n",
       "       dtype=float32),\n",
       " array([0., 0., 0., 0., 0., 0., 0., 0., 0., 0., 0., 0., 0., 0., 0., 0.],\n",
       "       dtype=float32),\n",
       " array([[[[ 0.09440332, -0.07407747,  0.04173864, ...,  0.01859968,\n",
       "            0.07247328, -0.01416407],\n",
       "          [ 0.05886848,  0.07309323,  0.08122417, ..., -0.02688084,\n",
       "           -0.00319636, -0.00436316],\n",
       "          [ 0.07577714,  0.11002738,  0.11632022, ...,  0.11260401,\n",
       "           -0.0831618 , -0.08285598],\n",
       "          ...,\n",
       "          [ 0.0123314 , -0.03794138, -0.09420118, ...,  0.03418691,\n",
       "            0.01243483,  0.02217419],\n",
       "          [ 0.08630341,  0.08334581, -0.03909595, ..., -0.06705251,\n",
       "           -0.01147459, -0.11751635],\n",
       "          [-0.02994832, -0.00838368, -0.02134367, ...,  0.00351564,\n",
       "           -0.02199953, -0.0725209 ]],\n",
       " \n",
       "         [[-0.05167063, -0.06128045, -0.08633798, ...,  0.03227679,\n",
       "            0.01510108,  0.0400903 ],\n",
       "          [-0.08010885,  0.03304753,  0.06440698, ..., -0.00245842,\n",
       "            0.0626105 , -0.01634388],\n",
       "          [ 0.10190883,  0.03351273,  0.10926165, ...,  0.00121265,\n",
       "           -0.00857107, -0.0140748 ],\n",
       "          ...,\n",
       "          [ 0.08215382,  0.01377668,  0.10274399, ..., -0.10855059,\n",
       "            0.0110135 ,  0.03058771],\n",
       "          [ 0.06501795, -0.09178907,  0.07841488, ...,  0.0969634 ,\n",
       "            0.09618209,  0.07576562],\n",
       "          [-0.09545387, -0.08570716,  0.06417236, ..., -0.10337821,\n",
       "           -0.04287826, -0.00576139]],\n",
       " \n",
       "         [[ 0.1132197 , -0.00762717, -0.09844892, ..., -0.0457882 ,\n",
       "            0.10226818,  0.10013684],\n",
       "          [ 0.09594045,  0.08255371,  0.05286566, ..., -0.10681796,\n",
       "           -0.09608082,  0.03124998],\n",
       "          [ 0.11571074,  0.01096746,  0.06694566, ..., -0.07161972,\n",
       "            0.01247459,  0.10869936],\n",
       "          ...,\n",
       "          [-0.0738057 , -0.0487945 ,  0.10922294, ..., -0.09803244,\n",
       "            0.01178493, -0.11237235],\n",
       "          [-0.06391589,  0.06102648,  0.06843861, ..., -0.09376718,\n",
       "           -0.04432185, -0.09021659],\n",
       "          [ 0.00532756,  0.06268776,  0.04803924, ...,  0.03317145,\n",
       "           -0.03469065,  0.05824172]]],\n",
       " \n",
       " \n",
       "        [[[-0.11055663, -0.03611341, -0.07489849, ..., -0.11264088,\n",
       "           -0.02496923, -0.0247046 ],\n",
       "          [ 0.0998086 , -0.02991533,  0.02257422, ...,  0.10847472,\n",
       "           -0.04817396, -0.08944466],\n",
       "          [-0.07574463, -0.05017855, -0.11181576, ...,  0.0975912 ,\n",
       "            0.08465993, -0.11742952],\n",
       "          ...,\n",
       "          [ 0.03517368,  0.10316669,  0.04322011, ..., -0.04364587,\n",
       "            0.01327819, -0.01153731],\n",
       "          [ 0.00214893,  0.11398744,  0.00152504, ..., -0.05872537,\n",
       "           -0.01341958, -0.08376826],\n",
       "          [-0.01272169,  0.11629883,  0.09449574, ..., -0.06553186,\n",
       "            0.07167128,  0.00520919]],\n",
       " \n",
       "         [[-0.10218082, -0.10928903, -0.03517258, ..., -0.01048678,\n",
       "           -0.08098596, -0.09623255],\n",
       "          [ 0.03469706, -0.01548984,  0.09791849, ..., -0.1036597 ,\n",
       "            0.00917143, -0.08747786],\n",
       "          [-0.06364663,  0.00367074, -0.0632883 , ..., -0.09176467,\n",
       "           -0.0440259 , -0.06061478],\n",
       "          ...,\n",
       "          [ 0.04561365, -0.06337368, -0.00097691, ..., -0.00851883,\n",
       "           -0.11269724, -0.00142105],\n",
       "          [ 0.04565296, -0.02984222,  0.09824667, ...,  0.05781048,\n",
       "            0.10617919, -0.06883033],\n",
       "          [-0.0806208 , -0.0583066 ,  0.00238815, ..., -0.03949831,\n",
       "           -0.03104916,  0.03200749]],\n",
       " \n",
       "         [[-0.0221582 , -0.03236859,  0.10283885, ..., -0.10331648,\n",
       "            0.00343215, -0.07581252],\n",
       "          [ 0.10188492,  0.06762931, -0.05282784, ...,  0.02653029,\n",
       "            0.04090599, -0.09624581],\n",
       "          [ 0.03261764,  0.02072256, -0.07230435, ..., -0.06368563,\n",
       "           -0.04885084, -0.04443137],\n",
       "          ...,\n",
       "          [ 0.0251692 ,  0.03238288, -0.0037035 , ..., -0.05802713,\n",
       "            0.03023247,  0.03532431],\n",
       "          [-0.09147485, -0.11099735,  0.0241278 , ...,  0.09115838,\n",
       "            0.04177242,  0.0752018 ],\n",
       "          [-0.03132138,  0.05810491,  0.03081036, ...,  0.0742979 ,\n",
       "           -0.03307648,  0.02318906]]],\n",
       " \n",
       " \n",
       "        [[[ 0.0122812 , -0.09632696, -0.09265605, ...,  0.10362851,\n",
       "            0.06900858, -0.03159339],\n",
       "          [ 0.06129562,  0.10880928, -0.09224397, ..., -0.03999384,\n",
       "           -0.07864878,  0.10322342],\n",
       "          [ 0.06312294,  0.02098728, -0.07512735, ...,  0.03887724,\n",
       "           -0.09481172, -0.05886516],\n",
       "          ...,\n",
       "          [-0.07102348,  0.07631268, -0.11762249, ...,  0.11006894,\n",
       "            0.05175585, -0.01654471],\n",
       "          [-0.10083996,  0.08974051, -0.06659225, ..., -0.06362345,\n",
       "           -0.11363414, -0.01666447],\n",
       "          [ 0.01921197, -0.02549556,  0.04380126, ..., -0.09216173,\n",
       "            0.10208725,  0.06942255]],\n",
       " \n",
       "         [[ 0.05373637,  0.0716771 ,  0.10905891, ..., -0.03031196,\n",
       "           -0.10278551, -0.11431726],\n",
       "          [ 0.06142478,  0.07498821, -0.11304173, ...,  0.04083035,\n",
       "            0.06277872,  0.0151113 ],\n",
       "          [ 0.08547106,  0.11140036, -0.03259955, ...,  0.06526198,\n",
       "            0.07346957,  0.1141388 ],\n",
       "          ...,\n",
       "          [-0.06276599,  0.04303733,  0.01916339, ...,  0.01941978,\n",
       "            0.01081901, -0.07960843],\n",
       "          [-0.09689372, -0.03597447,  0.00053979, ..., -0.08215216,\n",
       "           -0.04295832,  0.0579701 ],\n",
       "          [ 0.02853266,  0.04293651,  0.04273485, ..., -0.03072053,\n",
       "           -0.11418483, -0.01973189]],\n",
       " \n",
       "         [[-0.04834629, -0.02117722, -0.06000787, ..., -0.07178962,\n",
       "           -0.05158629, -0.03170457],\n",
       "          [ 0.02100144,  0.06754261,  0.07383577, ...,  0.04450563,\n",
       "           -0.08557859, -0.10179906],\n",
       "          [-0.04793089, -0.07469116, -0.05236639, ...,  0.09293782,\n",
       "           -0.05876561,  0.04469825],\n",
       "          ...,\n",
       "          [-0.07093284, -0.03769889, -0.08225376, ...,  0.03098915,\n",
       "            0.01951271, -0.10006016],\n",
       "          [ 0.05406865, -0.00076457,  0.00133881, ..., -0.02969257,\n",
       "            0.03284886,  0.0286269 ],\n",
       "          [ 0.11164338,  0.0908856 , -0.09602004, ..., -0.00717381,\n",
       "            0.07864413,  0.04431064]]]], dtype=float32),\n",
       " array([0., 0., 0., 0., 0., 0., 0., 0., 0., 0., 0., 0., 0., 0., 0., 0., 0.,\n",
       "        0., 0., 0., 0., 0., 0., 0., 0., 0., 0., 0., 0., 0., 0., 0.],\n",
       "       dtype=float32),\n",
       " array([[[[ 0.03912413, -0.06210109, -0.05660212, ..., -0.06269561,\n",
       "           -0.0112922 , -0.00181884],\n",
       "          [ 0.03375999, -0.05990782, -0.06241944, ..., -0.03130678,\n",
       "            0.07735983,  0.06954653],\n",
       "          [-0.00819822, -0.0327183 ,  0.06031091, ...,  0.05358598,\n",
       "           -0.03088252, -0.02271956],\n",
       "          ...,\n",
       "          [-0.04689888, -0.08097468,  0.0204986 , ...,  0.06245805,\n",
       "            0.05529339, -0.01859113],\n",
       "          [ 0.05563811,  0.04896309,  0.06569091, ...,  0.03046012,\n",
       "           -0.03580336, -0.04453945],\n",
       "          [-0.05940137,  0.00958065,  0.08136966, ...,  0.07337708,\n",
       "           -0.06670612, -0.08142245]],\n",
       " \n",
       "         [[-0.06057016, -0.06757434,  0.04719909, ..., -0.05719563,\n",
       "           -0.00521644,  0.07063765],\n",
       "          [-0.01604644, -0.02457126,  0.02608331, ..., -0.03212651,\n",
       "            0.04106057, -0.033699  ],\n",
       "          [-0.00237843,  0.0242512 ,  0.06599716, ..., -0.05127255,\n",
       "           -0.04300448,  0.07839189],\n",
       "          ...,\n",
       "          [-0.01662817, -0.06328537, -0.02036846, ..., -0.07303838,\n",
       "            0.07161445,  0.0448179 ],\n",
       "          [-0.0183532 ,  0.02573341, -0.06658494, ..., -0.04541876,\n",
       "            0.07748093,  0.07875241],\n",
       "          [ 0.01997121,  0.03447447, -0.03926607, ..., -0.01880932,\n",
       "           -0.01019307,  0.03038058]],\n",
       " \n",
       "         [[ 0.03311926,  0.01555105, -0.03737714, ..., -0.05569496,\n",
       "           -0.05952378,  0.00957972],\n",
       "          [ 0.00676993, -0.00483003,  0.01645287, ..., -0.08285493,\n",
       "           -0.0268961 , -0.0181407 ],\n",
       "          [-0.02788687, -0.03792296, -0.01598469, ..., -0.042129  ,\n",
       "           -0.02692483,  0.06591684],\n",
       "          ...,\n",
       "          [ 0.06052045, -0.01647637, -0.05422036, ...,  0.0173164 ,\n",
       "            0.0576371 ,  0.01672012],\n",
       "          [ 0.05671845,  0.01798139,  0.01603261, ...,  0.06417342,\n",
       "           -0.03116528, -0.0356824 ],\n",
       "          [-0.03746106,  0.03708533, -0.00762852, ..., -0.06747987,\n",
       "            0.0372984 , -0.03562322]]],\n",
       " \n",
       " \n",
       "        [[[-0.01692879, -0.0465139 ,  0.04390355, ...,  0.04682682,\n",
       "           -0.0793618 ,  0.00654455],\n",
       "          [-0.06134071, -0.02136636, -0.03253099, ..., -0.03226755,\n",
       "           -0.06658529, -0.0079089 ],\n",
       "          [-0.02671305, -0.01474013, -0.07867327, ..., -0.01303017,\n",
       "           -0.07619339,  0.05718378],\n",
       "          ...,\n",
       "          [-0.0607399 ,  0.04906056,  0.04030349, ..., -0.02878352,\n",
       "           -0.03523447, -0.03898307],\n",
       "          [ 0.05488265,  0.01449081,  0.06918236, ...,  0.06889049,\n",
       "           -0.07596695,  0.05292235],\n",
       "          [ 0.00168379,  0.02905985, -0.06102302, ..., -0.00099257,\n",
       "            0.03787059, -0.00452807]],\n",
       " \n",
       "         [[-0.03813716, -0.00487465, -0.08093834, ...,  0.00378074,\n",
       "            0.07945494, -0.04800916],\n",
       "          [-0.01323903,  0.06975927, -0.06260475, ...,  0.01787176,\n",
       "           -0.03573946,  0.07358623],\n",
       "          [-0.06642129, -0.00553312,  0.0130288 , ..., -0.04737423,\n",
       "            0.05125595,  0.05811385],\n",
       "          ...,\n",
       "          [-0.01497767, -0.0577876 ,  0.04276941, ..., -0.03978988,\n",
       "           -0.02157219,  0.03712237],\n",
       "          [ 0.04198428, -0.07281107, -0.01246915, ..., -0.06121322,\n",
       "           -0.0078486 , -0.08076914],\n",
       "          [ 0.0822281 ,  0.05475197,  0.00626522, ...,  0.04663748,\n",
       "           -0.06819767, -0.07084213]],\n",
       " \n",
       "         [[ 0.06621117, -0.05672316,  0.03136053, ...,  0.07233564,\n",
       "           -0.02575187, -0.07268298],\n",
       "          [ 0.02341244, -0.07643646, -0.00170914, ...,  0.04196084,\n",
       "            0.07027972,  0.02774289],\n",
       "          [-0.01304499, -0.04799273,  0.06587703, ...,  0.02042554,\n",
       "            0.04459924, -0.01816788],\n",
       "          ...,\n",
       "          [-0.00514472,  0.05954585, -0.02192001, ...,  0.01851457,\n",
       "            0.01412681,  0.0253038 ],\n",
       "          [ 0.04081628, -0.08016126,  0.03594204, ...,  0.03123558,\n",
       "           -0.06409564, -0.00487301],\n",
       "          [-0.06756523,  0.08266749,  0.0369548 , ...,  0.07872216,\n",
       "            0.06071819, -0.07913131]]],\n",
       " \n",
       " \n",
       "        [[[-0.06574214,  0.01487615, -0.00040307, ..., -0.05874916,\n",
       "            0.00869336,  0.03984907],\n",
       "          [ 0.05781815,  0.08057199, -0.00956583, ...,  0.00168004,\n",
       "            0.02668021, -0.02359891],\n",
       "          [ 0.05771735, -0.06289595,  0.07069061, ..., -0.03238622,\n",
       "            0.0424967 ,  0.04856024],\n",
       "          ...,\n",
       "          [ 0.01402722, -0.06077484,  0.0505055 , ...,  0.0370275 ,\n",
       "           -0.06607823, -0.01207594],\n",
       "          [-0.0223759 ,  0.00791397, -0.04533968, ..., -0.0344485 ,\n",
       "           -0.00141487, -0.02915949],\n",
       "          [-0.03780749, -0.03606638, -0.03030978, ..., -0.02259539,\n",
       "            0.03452083,  0.00534642]],\n",
       " \n",
       "         [[ 0.01774433, -0.04331625, -0.01104254, ..., -0.05522923,\n",
       "            0.046824  , -0.01627996],\n",
       "          [-0.03356272,  0.07605723,  0.04358659, ...,  0.05676449,\n",
       "            0.06980523,  0.05387685],\n",
       "          [-0.04324351,  0.06245001, -0.04023933, ..., -0.07608189,\n",
       "            0.00303461, -0.05350481],\n",
       "          ...,\n",
       "          [-0.00125834, -0.05131841, -0.04478123, ..., -0.05001174,\n",
       "           -0.04291805, -0.04434478],\n",
       "          [ 0.05393318,  0.06389154,  0.06222431, ..., -0.00611124,\n",
       "            0.00467315, -0.05254756],\n",
       "          [-0.05745681, -0.01129171, -0.01737247, ...,  0.02309626,\n",
       "           -0.02564752, -0.01938245]],\n",
       " \n",
       "         [[ 0.06200231, -0.06409979, -0.02277253, ...,  0.00091974,\n",
       "           -0.05230457, -0.03456799],\n",
       "          [ 0.03362489, -0.01496092,  0.05080905, ...,  0.05903367,\n",
       "           -0.03342162, -0.08271116],\n",
       "          [ 0.06928077, -0.04223818,  0.03684058, ...,  0.00693899,\n",
       "           -0.04152642,  0.06495345],\n",
       "          ...,\n",
       "          [ 0.00796866,  0.0531375 ,  0.03420856, ...,  0.03294817,\n",
       "           -0.05531863,  0.06025485],\n",
       "          [-0.00473531, -0.05990561, -0.08004987, ..., -0.05352175,\n",
       "           -0.00264686, -0.00685132],\n",
       "          [-0.0395897 , -0.01710882, -0.00372767, ..., -0.01989398,\n",
       "           -0.0536085 , -0.03869921]]]], dtype=float32),\n",
       " array([0., 0., 0., 0., 0., 0., 0., 0., 0., 0., 0., 0., 0., 0., 0., 0., 0.,\n",
       "        0., 0., 0., 0., 0., 0., 0., 0., 0., 0., 0., 0., 0., 0., 0., 0., 0.,\n",
       "        0., 0., 0., 0., 0., 0., 0., 0., 0., 0., 0., 0., 0., 0., 0., 0., 0.,\n",
       "        0., 0., 0., 0., 0., 0., 0., 0., 0., 0., 0., 0., 0.], dtype=float32),\n",
       " array([[ 0.03258575, -0.035898  ,  0.03829071, ..., -0.0387378 ,\n",
       "          0.01233745,  0.02965428],\n",
       "        [ 0.00318912, -0.04035304,  0.0101477 , ...,  0.03620915,\n",
       "         -0.02467391,  0.03339503],\n",
       "        [ 0.01085586, -0.00859785, -0.03672411, ..., -0.01731761,\n",
       "          0.00856325,  0.01230973],\n",
       "        ...,\n",
       "        [ 0.01719838,  0.03369248,  0.03895068, ...,  0.00699379,\n",
       "          0.00752117,  0.02389203],\n",
       "        [-0.01475857, -0.01823428,  0.01011887, ..., -0.02850366,\n",
       "         -0.02382323, -0.02617897],\n",
       "        [ 0.03783607,  0.01416368,  0.00903973, ..., -0.00484767,\n",
       "          0.04204258,  0.00761992]], dtype=float32),\n",
       " array([0., 0., 0., 0., 0., 0., 0., 0., 0., 0., 0., 0., 0., 0., 0., 0., 0.,\n",
       "        0., 0., 0., 0., 0., 0., 0., 0., 0., 0., 0., 0., 0., 0., 0., 0., 0.,\n",
       "        0., 0., 0., 0., 0., 0., 0., 0., 0., 0., 0., 0., 0., 0., 0., 0., 0.,\n",
       "        0., 0., 0., 0., 0., 0., 0., 0., 0., 0., 0., 0., 0., 0., 0., 0., 0.,\n",
       "        0., 0., 0., 0., 0., 0., 0., 0., 0., 0., 0., 0., 0., 0., 0., 0., 0.,\n",
       "        0., 0., 0., 0., 0., 0., 0., 0., 0., 0., 0., 0., 0., 0., 0., 0., 0.,\n",
       "        0., 0., 0., 0., 0., 0., 0., 0., 0., 0., 0., 0., 0., 0., 0., 0., 0.,\n",
       "        0., 0., 0., 0., 0., 0., 0., 0., 0., 0., 0., 0., 0., 0., 0., 0., 0.,\n",
       "        0., 0., 0., 0., 0., 0., 0., 0., 0., 0., 0., 0., 0., 0., 0., 0., 0.,\n",
       "        0., 0., 0., 0., 0., 0., 0., 0., 0., 0., 0., 0., 0., 0., 0., 0., 0.,\n",
       "        0., 0., 0., 0., 0., 0., 0., 0., 0., 0., 0., 0., 0., 0., 0., 0., 0.,\n",
       "        0., 0., 0., 0., 0., 0., 0., 0., 0., 0., 0., 0., 0., 0., 0., 0., 0.,\n",
       "        0., 0., 0., 0., 0., 0., 0., 0., 0., 0., 0., 0., 0., 0., 0., 0., 0.,\n",
       "        0., 0., 0., 0., 0., 0., 0., 0., 0., 0., 0., 0., 0., 0., 0., 0., 0.,\n",
       "        0., 0., 0., 0., 0., 0., 0., 0., 0., 0., 0., 0., 0., 0., 0., 0., 0.,\n",
       "        0.], dtype=float32),\n",
       " array([[ 0.07822359,  0.01233052, -0.14087754,  0.04104738],\n",
       "        [-0.13897963,  0.09334324, -0.05099526,  0.03660122],\n",
       "        [-0.04869   , -0.14658962, -0.09086616,  0.03595671],\n",
       "        ...,\n",
       "        [-0.00380699,  0.00724991,  0.10307994,  0.00429749],\n",
       "        [-0.12142013, -0.14019063,  0.05612643,  0.05948633],\n",
       "        [-0.04242628,  0.08963531,  0.11891305,  0.07788202]],\n",
       "       dtype=float32),\n",
       " array([0., 0., 0., 0.], dtype=float32)]"
      ]
     },
     "execution_count": 33,
     "metadata": {},
     "output_type": "execute_result"
    }
   ],
   "source": [
    "seed = 505#<YOUR CODE: your favourite random seed>\n",
    "random.seed(seed)\n",
    "np.random.seed(seed)\n",
    "tf.set_random_seed(seed)\n",
    "\n",
    "env = make_env(seed)\n",
    "state_shape = env.observation_space.shape\n",
    "n_actions = env.action_space.n\n",
    "state = env.reset()\n",
    "\n",
    "sess.run(tf.global_variables_initializer())\n",
    "sess.run(copy_step)"
   ]
  },
  {
   "cell_type": "code",
   "execution_count": 34,
   "metadata": {},
   "outputs": [],
   "source": [
    "REPLAY_BUFFER_SIZE = 10**5\n",
    "\n",
    "exp_replay = ReplayBuffer(REPLAY_BUFFER_SIZE)\n",
    "_, state = play_and_record(state, agent, env, exp_replay, n_steps=4000)\n",
    "\n",
    "\n",
    "def sample_batch(exp_replay, batch_size):\n",
    "    obs_batch, act_batch, reward_batch, next_obs_batch, is_done_batch = exp_replay.sample(batch_size)\n",
    "    return {\n",
    "        obs_ph: obs_batch,\n",
    "        actions_ph: act_batch,\n",
    "        rewards_ph: reward_batch,\n",
    "        next_obs_ph: next_obs_batch,\n",
    "        is_done_ph: is_done_batch,\n",
    "    }"
   ]
  },
  {
   "cell_type": "code",
   "execution_count": 35,
   "metadata": {},
   "outputs": [],
   "source": [
    "timesteps_per_epoch = 10\n",
    "batch_size = 64\n",
    "total_steps = 3 * 10**5\n",
    "decay_steps = 10**5\n",
    "\n",
    "init_epsilon = 1\n",
    "final_epsilon = 0.1\n",
    "\n",
    "loss_freq = 5\n",
    "refresh_target_network_freq = 500\n",
    "eval_freq = 500\n",
    "\n",
    "n_lives = 5"
   ]
  },
  {
   "cell_type": "code",
   "execution_count": 36,
   "metadata": {},
   "outputs": [],
   "source": [
    "mean_rw_history = []\n",
    "td_loss_history = []\n",
    "initial_state_v_history = []\n",
    "step = 0"
   ]
  },
  {
   "cell_type": "code",
   "execution_count": null,
   "metadata": {},
   "outputs": [
    {
     "name": "stdout",
     "output_type": "stream",
     "text": [
      "buffer size = 10, epsilon = 1.00000\n"
     ]
    },
    {
     "data": {
      "image/png": "[encoded data removed]",
      "text/plain": [
       "<Figure size 1152x648 with 3 Axes>"
      ]
     },
     "metadata": {
      "needs_background": "light"
     },
     "output_type": "display_data"
    },
    {
     "name": "stderr",
     "output_type": "stream",
     "text": [
      "  0%|          | 491/300000 [15:17<6364:03:20, 76.49s/it] "
     ]
    }
   ],
   "source": [
    "state = env.reset()\n",
    "\n",
    "with trange(step, total_steps) as progress_bar:\n",
    "    for step in progress_bar:\n",
    "        agent.epsilon = utils.linear_decay(init_epsilon, final_epsilon, step, decay_steps)\n",
    "        \n",
    "        # play\n",
    "        _, state = play_and_record(state, agent, env, exp_replay, timesteps_per_epoch)\n",
    "\n",
    "        # train\n",
    "        _, loss_t = sess.run([train_step, td_loss], sample_batch(exp_replay, batch_size=batch_size))\n",
    "        \n",
    "        if step % loss_freq == 0:\n",
    "            td_loss_history.append(loss_t)\n",
    "            \n",
    "        if step % refresh_target_network_freq == 0:\n",
    "            # Load agent weights into target_network\n",
    "            sess.run(copy_step)\n",
    "\n",
    "        if step % eval_freq == 0:\n",
    "            # eval the agent\n",
    "            mean_rw_history.append(evaluate(\n",
    "                make_env(clip_rewards=True, seed=step), agent, n_games=3 * n_lives, greedy=True)\n",
    "            )\n",
    "            initial_state_q_values = agent.get_qvalues(\n",
    "                [make_env(seed=step).reset()]\n",
    "            )\n",
    "            initial_state_v_history.append(np.max(initial_state_q_values))\n",
    "\n",
    "            clear_output(True)\n",
    "            print(\"buffer size = %i, epsilon = %.5f\" %\n",
    "                (len(exp_replay), agent.epsilon))\n",
    "\n",
    "            plt.figure(figsize=[16, 9])\n",
    "\n",
    "            plt.subplot(2, 2, 1)\n",
    "            plt.title(\"Mean reward per life\")\n",
    "            plt.plot(mean_rw_history)\n",
    "            plt.grid()\n",
    "\n",
    "            assert not np.isnan(td_loss_history[-1])\n",
    "            plt.subplot(2, 2, 2)\n",
    "            plt.title(\"TD loss history (smoothened)\")\n",
    "            plt.plot(utils.smoothen(td_loss_history))\n",
    "            plt.grid()\n",
    "\n",
    "            plt.subplot(2, 2, 3)\n",
    "            plt.title(\"Initial state V\")\n",
    "            plt.plot(initial_state_v_history)\n",
    "            plt.grid()\n",
    "\n",
    "            plt.show()"
   ]
  },
  {
   "cell_type": "markdown",
   "metadata": {},
   "source": [
    "Agent is evaluated for 1 life, not for a whole episode of 5 lives. Rewards in evaluation are also truncated. Cuz this is what environment the agent is learning in and in this way mean rewards per life can be compared with initial state value\n",
    "\n",
    "**The goal is to get 15 points in the real env**. So 3 or better 4 points in the preprocessed one will probably be enough. You can interrupt learning then."
   ]
  },
  {
   "cell_type": "markdown",
   "metadata": {},
   "source": [
    "Final scoring is done on a whole episode with all 5 lives."
   ]
  },
  {
   "cell_type": "code",
   "execution_count": null,
   "metadata": {},
   "outputs": [],
   "source": [
    "final_score = evaluate(\n",
    "  make_env(clip_rewards=False, seed=9),\n",
    "    agent, n_games=30, greedy=True, t_max=10 * 1000\n",
    ") * n_lives\n",
    "print('final score:', final_score)\n",
    "assert final_score >= 15, 'not as cool as DQN can'\n",
    "print('Cool!')"
   ]
  },
  {
   "cell_type": "markdown",
   "metadata": {},
   "source": [
    "## How to interpret plots:\n",
    "\n",
    "This aint no supervised learning so don't expect anything to improve monotonously. \n",
    "* **TD loss** is the MSE between agent's current Q-values and target Q-values. It may slowly increase or decrease, it's ok. The \"not ok\" behavior includes going NaN or stayng at exactly zero before agent has perfect performance.\n",
    "* **mean reward** is the expected sum of r(s,a) agent gets over the full game session. It will oscillate, but on average it should get higher over time (after a few thousand iterations...). \n",
    " * In basic q-learning implementation it takes about 40k steps to \"warm up\" agent before it starts to get better.\n",
    "* **Initial state V** is the expected discounted reward for episode in the oppinion of the agent. It should behave more smoothly than **mean reward**. It should get higher over time but sometimes can experience drawdowns because of the agaent's overestimates.\n",
    "* **buffer size** - this one is simple. It should go up and cap at max size.\n",
    "* **epsilon** - agent's willingness to explore. If you see that agent's already at 0.01 epsilon before it's average reward is above 0 - it means you need to increase epsilon. Set it back to some 0.2 - 0.5 and decrease the pace at which it goes down.\n",
    "* Smoothing of plots is done with a gaussian kernel\n",
    "\n",
    "At first your agent will lose quickly. Then it will learn to suck less and at least hit the ball a few times before it loses. Finally it will learn to actually score points.\n",
    "\n",
    "**Training will take time.** A lot of it actually. Probably you will not see any improvment during first **150k** time steps (note that by default in this notebook agent is evaluated every 5000 time steps).\n",
    "\n",
    "But hey, long training time isn't _that_ bad:\n",
    "\n",
    "![img](https://github.com/yandexdataschool/Practical_RL/raw/master/yet_another_week/_resource/training.png)"
   ]
  },
  {
   "cell_type": "markdown",
   "metadata": {},
   "source": [
    "## About hyperparameters:\n",
    "\n",
    "The task has something in common with supervised learning: loss is optimized through the buffer (instead of Train dataset). But the distribution of states and actions in the buffer **is not stationary** and depends on the policy that generated it. It can even happen that the mean TD error across the buffer is very low but the performance is extremely poor (imagine the agent collecting data to the buffer always manages to avoid the ball).\n",
    "\n",
    "* Total timesteps and training time: It seems to be so huge, but actually it is normal for RL.\n",
    "\n",
    "* $\\epsilon$ decay shedule was taken from the original paper and is like traditional for epsilon-greedy policies. At the beginning of the training the agent's greedy policy is poor so many random actions should be taken.\n",
    "\n",
    "* Optimizer: In the original paper RMSProp was used (they did not have Adam in 2013) and it can work not worse than Adam. For us Adam was default and it worked.\n",
    "\n",
    "* lr: $10^{-3}$ would probably be too huge\n",
    "\n",
    "* batch size: This one can be very important: if it is too small the agent can fail to learn. Huge batch takes more time to process.\n",
    "\n",
    "* target network update frequency: has something in common with learning rate. Too frequent updates can lead to divergence. Too rare can lead to slow learning. For millions of total timesteps thousands of inner steps seem ok. One iteration of target network updating is an iteration of the (this time approximate) $\\gamma$-compression that stands behind Q-learning. The more inner steps it makes the more accurate is the compression."
   ]
  },
  {
   "cell_type": "markdown",
   "metadata": {},
   "source": [
    "## Let's have a closer look at this.\n",
    "\n",
    "If average episode score is below 200 using all 5 lives, then probably DQN has not converged fully. But anyway let's make a more complete record of an episode."
   ]
  },
  {
   "cell_type": "code",
   "execution_count": null,
   "metadata": {},
   "outputs": [],
   "source": [
    "eval_env = make_env(clip_rewards=False)\n",
    "record = utils.play_and_log_episode(eval_env, agent)\n",
    "print('total reward for life:', np.sum(record['rewards']))\n",
    "for key in record:\n",
    "    print(key)"
   ]
  },
  {
   "cell_type": "code",
   "execution_count": null,
   "metadata": {},
   "outputs": [],
   "source": [
    "fig = plt.figure(figsize=(5, 5))\n",
    "ax = fig.add_subplot(1, 1, 1)\n",
    "\n",
    "ax.scatter(record['v_mc'], record['v_agent'])\n",
    "ax.plot(sorted(record['v_mc']), sorted(record['v_mc']),\n",
    "       'black', linestyle='--', label='x=y')\n",
    "\n",
    "ax.grid()\n",
    "ax.legend()\n",
    "ax.set_title('State Value Estimates')\n",
    "ax.set_xlabel('Monte-Carlo')\n",
    "ax.set_ylabel('Agent')\n",
    "\n",
    "plt.show()"
   ]
  },
  {
   "cell_type": "markdown",
   "metadata": {},
   "source": [
    "$\\hat V_{Monte-Carlo}(s_t) = \\sum_{\\tau=0}^{episode~end} \\gamma^{\\tau-t}r_t$"
   ]
  },
  {
   "cell_type": "markdown",
   "metadata": {},
   "source": [
    "Is there a big bias? It's ok, anyway it works."
   ]
  },
  {
   "cell_type": "markdown",
   "metadata": {},
   "source": [
    "### Video"
   ]
  },
  {
   "cell_type": "code",
   "execution_count": null,
   "metadata": {},
   "outputs": [],
   "source": [
    "# Record sessions\n",
    "\n",
    "import gym.wrappers\n",
    "\n",
    "with gym.wrappers.Monitor(make_env(), directory=\"videos\", force=True) as env_monitor:\n",
    "    sessions = [evaluate(env_monitor, agent, n_games=n_lives, greedy=True) for _ in range(10)]"
   ]
  },
  {
   "cell_type": "code",
   "execution_count": null,
   "metadata": {},
   "outputs": [],
   "source": [
    "# Show video. This may not work in some setups. If it doesn't\n",
    "# work for you, you can download the videos and view them locally.\n",
    "\n",
    "from pathlib import Path\n",
    "from IPython.display import HTML\n",
    "\n",
    "video_names = sorted([s for s in Path('videos').iterdir() if s.suffix == '.mp4'])\n",
    "\n",
    "HTML(\"\"\"\n",
    "<video width=\"640\" height=\"480\" controls>\n",
    "  <source src=\"{}\" type=\"video/mp4\">\n",
    "</video>\n",
    "\"\"\".format(video_names[-1]))  # You can also try other indices"
   ]
  },
  {
   "cell_type": "markdown",
   "metadata": {},
   "source": [
    "## Bonus I (2 pts)"
   ]
  },
  {
   "cell_type": "markdown",
   "metadata": {},
   "source": [
    "**1.** Plot several (say 3) states with high and low spreads of Q estimate by actions i.e.\n",
    "$$\\max_a \\hat Q(s,a) - \\min_a \\hat Q(s,a)\\$$\n",
    "Please take those states from different episodes to make sure that the states are really different.\n",
    "\n",
    "What should high and low spread mean at least in the world of perfect Q-fucntions?\n",
    "\n",
    "Comment the states you like most.\n",
    "\n",
    "**2.** Plot several (say 3) states with high td-error and several states with high values of\n",
    "$$| \\hat V_{Monte-Carlo}(s) - \\hat V_{agent}(s)|,$$ \n",
    "$$\\hat V_{agent}(s)=\\max_a \\hat Q(s,a).$$ Please take those states from different episodes to make sure that the states are really different. From what part (i.e. beginning, middle, end) of an episode did these states come from?\n",
    "\n",
    "Comment the states you like most."
   ]
  },
  {
   "cell_type": "code",
   "execution_count": null,
   "metadata": {},
   "outputs": [],
   "source": [
    "from utils import play_and_log_episode, img_by_obs\n",
    "\n",
    "<YOUR CODE>"
   ]
  },
  {
   "cell_type": "markdown",
   "metadata": {},
   "source": [
    "## Bonus II (1-5 pts). Get High Score!\n",
    "\n",
    "1 point to you for each 50 points of your agent. Truncated by 5 points. Starting with 50 points, **not** 50 + threshold.\n",
    "\n",
    "One way is to train for several days and use heavier hardware (why not actually).\n",
    "\n",
    "Another way is to apply modifications (see **Bonus III**)."
   ]
  },
  {
   "cell_type": "markdown",
   "metadata": {},
   "source": [
    "## Bonus III (2+ pts). Apply modifications to DQN.\n",
    "\n",
    "For inspiration see [Rainbow](https://arxiv.org/abs/1710.02298) - a version of q-learning that combines lots of them.\n",
    "\n",
    "Points for Bonus II and Bonus III fully stack. So if modified agent gets score 250+ you get 5 pts for Bonus II + points for modifications. If the final score is 40 then you get the points for modifications.\n",
    "\n",
    "\n",
    "Some modifications:\n",
    "* [Prioritized experience replay](https://arxiv.org/abs/1511.05952) (5 pts for your own implementation, 3 pts for using a ready one)\n",
    "* [double q-learning](https://arxiv.org/abs/1509.06461) (2 pts)\n",
    "* [dueling q-learning](https://arxiv.org/abs/1511.06581) (2 pts)\n",
    "* multi-step heuristics (see [Rainbow](https://arxiv.org/abs/1710.02298)) (3 pts)\n",
    "* [Noisy Nets](https://arxiv.org/abs/1706.10295) (3 pts)\n",
    "* [distributional RL](https://arxiv.org/abs/1707.06887)(distributional and distributed stand for different things here) (5 pts)\n",
    "* Other modifications (2+ pts depending on complexity)"
   ]
  },
  {
   "cell_type": "markdown",
   "metadata": {},
   "source": [
    "## Bonus IV (4+ pts). Distributed RL.\n",
    "\n",
    "Solve the task in a distributed way. It can strongly speed up learning. See [article](https://arxiv.org/pdf/1602.01783.pdf) or some guides."
   ]
  },
  {
   "cell_type": "markdown",
   "metadata": {},
   "source": [
    "**As usual bonus points for all the tasks fully stack.**"
   ]
  }
 ],
 "metadata": {
  "accelerator": "GPU",
  "kernelspec": {
   "display_name": "Python 3",
   "language": "python",
   "name": "python3"
  },
  "language_info": {
   "codemirror_mode": {
    "name": "ipython",
    "version": 3
   },
   "file_extension": ".py",
   "mimetype": "text/x-python",
   "name": "python",
   "nbconvert_exporter": "python",
   "pygments_lexer": "ipython3",
   "version": "3.7.9"
  }
 },
 "nbformat": 4,
 "nbformat_minor": 1
}
